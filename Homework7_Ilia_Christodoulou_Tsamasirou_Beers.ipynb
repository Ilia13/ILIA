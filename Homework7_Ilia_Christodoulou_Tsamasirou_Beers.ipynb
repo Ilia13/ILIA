{
  "nbformat": 4,
  "nbformat_minor": 0,
  "metadata": {
    "kernelspec": {
      "display_name": "Python 3",
      "language": "python",
      "name": "python3"
    },
    "language_info": {
      "codemirror_mode": {
        "name": "ipython",
        "version": 3
      },
      "file_extension": ".py",
      "mimetype": "text/x-python",
      "name": "python",
      "nbconvert_exporter": "python",
      "pygments_lexer": "ipython3",
      "version": "3.6.7"
    },
    "colab": {
      "name": " Homework7_Ilia Christodoulou Tsamasirou - Beers.ipynb",
      "provenance": []
    }
  },
  "cells": [
    {
      "cell_type": "markdown",
      "metadata": {
        "collapsed": true,
        "id": "_KnQyHmKh120",
        "colab_type": "text"
      },
      "source": [
        "# Μπύρες & Ζυθοποιεία"
      ]
    },
    {
      "cell_type": "markdown",
      "metadata": {
        "id": "gWjK-5ZFh124",
        "colab_type": "text"
      },
      "source": [
        "##  Εισάγετε τις βιβλιοθήκες που θα χρειαστείτε\n",
        "### Προτείνεται τα γραφήματα να υλοποιηθούν με τη βιβλιοθήκη seaborn"
      ]
    },
    {
      "cell_type": "code",
      "metadata": {
        "id": "dsN5FiPNh128",
        "colab_type": "code",
        "colab": {}
      },
      "source": [
        "import pandas as pd\n",
        "import numpy as np\n",
        "import matplotlib.pyplot as plt\n",
        "import seaborn as sns\n"
      ],
      "execution_count": 0,
      "outputs": []
    },
    {
      "cell_type": "markdown",
      "metadata": {
        "id": "VWXOp-_sh13I",
        "colab_type": "text"
      },
      "source": [
        "## Εισάγετε το αρχείο `craftcans.csv`, από τον φάκελο data και κοιτάξτε τις πρώτες γραμμές"
      ]
    },
    {
      "cell_type": "markdown",
      "metadata": {
        "id": "FVAHDZXZh13L",
        "colab_type": "text"
      },
      "source": [
        "**βοήθεια**: οι κενές γραμμές, δηλαδή οι τιμές NaN του συγκεκριμένου αρχείου είναι na_values = [\"???\", \"Unknown\", \"UNKNOWN\"]"
      ]
    },
    {
      "cell_type": "code",
      "metadata": {
        "id": "TIagMb4Oh13N",
        "colab_type": "code",
        "colab": {}
      },
      "source": [
        "df = pd.read_csv(\"https://raw.githubusercontent.com/cmourlas/DataAnalysisPython/master/HomeWorks/HW7/craftcans.csv\")"
      ],
      "execution_count": 0,
      "outputs": []
    },
    {
      "cell_type": "markdown",
      "metadata": {
        "id": "Ygpuux59h13U",
        "colab_type": "text"
      },
      "source": [
        "## Πόσες γραμμές έχει το αρχείο? Τι τύπος είναι οι στήλες?"
      ]
    },
    {
      "cell_type": "code",
      "metadata": {
        "id": "1HhmcVu6meZd",
        "colab_type": "code",
        "outputId": "082df23d-426f-4c20-de68-59572fd3ea67",
        "colab": {
          "base_uri": "https://localhost:8080/",
          "height": 34
        }
      },
      "source": [
        "df.shape"
      ],
      "execution_count": 4,
      "outputs": [
        {
          "output_type": "execute_result",
          "data": {
            "text/plain": [
              "(2416, 7)"
            ]
          },
          "metadata": {
            "tags": []
          },
          "execution_count": 4
        }
      ]
    },
    {
      "cell_type": "code",
      "metadata": {
        "id": "m4BXaCKGh13W",
        "colab_type": "code",
        "outputId": "5fe2a60e-6e52-49fd-eb2f-7e56715d3b19",
        "colab": {
          "base_uri": "https://localhost:8080/",
          "height": 410
        }
      },
      "source": [
        "df"
      ],
      "execution_count": 5,
      "outputs": [
        {
          "output_type": "execute_result",
          "data": {
            "text/html": [
              "<div>\n",
              "<style scoped>\n",
              "    .dataframe tbody tr th:only-of-type {\n",
              "        vertical-align: middle;\n",
              "    }\n",
              "\n",
              "    .dataframe tbody tr th {\n",
              "        vertical-align: top;\n",
              "    }\n",
              "\n",
              "    .dataframe thead th {\n",
              "        text-align: right;\n",
              "    }\n",
              "</style>\n",
              "<table border=\"1\" class=\"dataframe\">\n",
              "  <thead>\n",
              "    <tr style=\"text-align: right;\">\n",
              "      <th></th>\n",
              "      <th>Beer</th>\n",
              "      <th>Brewery</th>\n",
              "      <th>Location</th>\n",
              "      <th>Style</th>\n",
              "      <th>Size</th>\n",
              "      <th>ABV</th>\n",
              "      <th>IBUs</th>\n",
              "    </tr>\n",
              "  </thead>\n",
              "  <tbody>\n",
              "    <tr>\n",
              "      <th>0</th>\n",
              "      <td>Get Together</td>\n",
              "      <td>NorthGate Brewing</td>\n",
              "      <td>Minneapolis, MN</td>\n",
              "      <td>American IPA</td>\n",
              "      <td>16 oz.</td>\n",
              "      <td>4.50%</td>\n",
              "      <td>50.0</td>\n",
              "    </tr>\n",
              "    <tr>\n",
              "      <th>1</th>\n",
              "      <td>Maggie's Leap</td>\n",
              "      <td>NorthGate Brewing</td>\n",
              "      <td>Minneapolis, MN</td>\n",
              "      <td>Milk / Sweet Stout</td>\n",
              "      <td>16 oz.</td>\n",
              "      <td>4.90%</td>\n",
              "      <td>26.0</td>\n",
              "    </tr>\n",
              "    <tr>\n",
              "      <th>2</th>\n",
              "      <td>Wall's End</td>\n",
              "      <td>NorthGate Brewing</td>\n",
              "      <td>Minneapolis, MN</td>\n",
              "      <td>English Brown Ale</td>\n",
              "      <td>16 oz.</td>\n",
              "      <td>4.80%</td>\n",
              "      <td>19.0</td>\n",
              "    </tr>\n",
              "    <tr>\n",
              "      <th>3</th>\n",
              "      <td>Pumpion</td>\n",
              "      <td>NorthGate Brewing</td>\n",
              "      <td>Minneapolis, MN</td>\n",
              "      <td>Pumpkin Ale</td>\n",
              "      <td>16 oz.</td>\n",
              "      <td>6.00%</td>\n",
              "      <td>38.0</td>\n",
              "    </tr>\n",
              "    <tr>\n",
              "      <th>4</th>\n",
              "      <td>Stronghold</td>\n",
              "      <td>NorthGate Brewing</td>\n",
              "      <td>Minneapolis, MN</td>\n",
              "      <td>American Porter</td>\n",
              "      <td>16 oz.</td>\n",
              "      <td>6.00%</td>\n",
              "      <td>25.0</td>\n",
              "    </tr>\n",
              "    <tr>\n",
              "      <th>...</th>\n",
              "      <td>...</td>\n",
              "      <td>...</td>\n",
              "      <td>...</td>\n",
              "      <td>...</td>\n",
              "      <td>...</td>\n",
              "      <td>...</td>\n",
              "      <td>...</td>\n",
              "    </tr>\n",
              "    <tr>\n",
              "      <th>2411</th>\n",
              "      <td>Mama's Little Yella Pils</td>\n",
              "      <td>Oskar Blues Brewery</td>\n",
              "      <td>Longmont, CO</td>\n",
              "      <td>Czech Pilsener</td>\n",
              "      <td>12 oz.</td>\n",
              "      <td>5.30%</td>\n",
              "      <td>35.0</td>\n",
              "    </tr>\n",
              "    <tr>\n",
              "      <th>2412</th>\n",
              "      <td>GUBNA Imperial IPA</td>\n",
              "      <td>Oskar Blues Brewery</td>\n",
              "      <td>Longmont, CO</td>\n",
              "      <td>American Double / Imperial IPA</td>\n",
              "      <td>12 oz.</td>\n",
              "      <td>9.90%</td>\n",
              "      <td>100.0</td>\n",
              "    </tr>\n",
              "    <tr>\n",
              "      <th>2413</th>\n",
              "      <td>Old Chub</td>\n",
              "      <td>Oskar Blues Brewery</td>\n",
              "      <td>Longmont, CO</td>\n",
              "      <td>Scottish Ale</td>\n",
              "      <td>12 oz.</td>\n",
              "      <td>8.00%</td>\n",
              "      <td>35.0</td>\n",
              "    </tr>\n",
              "    <tr>\n",
              "      <th>2414</th>\n",
              "      <td>Gordon Ale (2009)</td>\n",
              "      <td>Oskar Blues Brewery</td>\n",
              "      <td>Longmont, CO</td>\n",
              "      <td>American Double / Imperial IPA</td>\n",
              "      <td>12 oz.</td>\n",
              "      <td>8.70%</td>\n",
              "      <td>85.0</td>\n",
              "    </tr>\n",
              "    <tr>\n",
              "      <th>2415</th>\n",
              "      <td>Dale's Pale Ale</td>\n",
              "      <td>Oskar Blues Brewery</td>\n",
              "      <td>Longmont, CO</td>\n",
              "      <td>American Pale Ale (APA)</td>\n",
              "      <td>12 oz.</td>\n",
              "      <td>6.50%</td>\n",
              "      <td>65.0</td>\n",
              "    </tr>\n",
              "  </tbody>\n",
              "</table>\n",
              "<p>2416 rows × 7 columns</p>\n",
              "</div>"
            ],
            "text/plain": [
              "                          Beer              Brewery  ...    ABV   IBUs\n",
              "0                 Get Together    NorthGate Brewing  ...  4.50%   50.0\n",
              "1                Maggie's Leap    NorthGate Brewing  ...  4.90%   26.0\n",
              "2                   Wall's End    NorthGate Brewing  ...  4.80%   19.0\n",
              "3                      Pumpion    NorthGate Brewing  ...  6.00%   38.0\n",
              "4                   Stronghold    NorthGate Brewing  ...  6.00%   25.0\n",
              "...                        ...                  ...  ...    ...    ...\n",
              "2411  Mama's Little Yella Pils  Oskar Blues Brewery  ...  5.30%   35.0\n",
              "2412        GUBNA Imperial IPA  Oskar Blues Brewery  ...  9.90%  100.0\n",
              "2413                  Old Chub  Oskar Blues Brewery  ...  8.00%   35.0\n",
              "2414         Gordon Ale (2009)  Oskar Blues Brewery  ...  8.70%   85.0\n",
              "2415           Dale's Pale Ale  Oskar Blues Brewery  ...  6.50%   65.0\n",
              "\n",
              "[2416 rows x 7 columns]"
            ]
          },
          "metadata": {
            "tags": []
          },
          "execution_count": 5
        }
      ]
    },
    {
      "cell_type": "code",
      "metadata": {
        "id": "G5iiO--5h13c",
        "colab_type": "code",
        "outputId": "7c76d4bf-413c-40aa-eea4-0c25d0e776c4",
        "colab": {
          "base_uri": "https://localhost:8080/",
          "height": 157
        }
      },
      "source": [
        "df.dtypes"
      ],
      "execution_count": 6,
      "outputs": [
        {
          "output_type": "execute_result",
          "data": {
            "text/plain": [
              "Beer         object\n",
              "Brewery      object\n",
              "Location     object\n",
              "Style        object\n",
              "Size         object\n",
              "ABV          object\n",
              "IBUs        float64\n",
              "dtype: object"
            ]
          },
          "metadata": {
            "tags": []
          },
          "execution_count": 6
        }
      ]
    },
    {
      "cell_type": "markdown",
      "metadata": {
        "id": "HiTjkqXVh13g",
        "colab_type": "text"
      },
      "source": [
        "# Ανάλυση ζυθοποιείων\n"
      ]
    },
    {
      "cell_type": "markdown",
      "metadata": {
        "id": "a_vvvzCrh13h",
        "colab_type": "text"
      },
      "source": [
        "## Ποιοι είναι οι top 10 παραγωγοί μπύρας?"
      ]
    },
    {
      "cell_type": "code",
      "metadata": {
        "id": "6wZCuwDnh13i",
        "colab_type": "code",
        "outputId": "233e129e-0889-4b97-b34d-b1944d484ac6",
        "colab": {
          "base_uri": "https://localhost:8080/",
          "height": 351
        }
      },
      "source": [
        "df.head(10)"
      ],
      "execution_count": 7,
      "outputs": [
        {
          "output_type": "execute_result",
          "data": {
            "text/html": [
              "<div>\n",
              "<style scoped>\n",
              "    .dataframe tbody tr th:only-of-type {\n",
              "        vertical-align: middle;\n",
              "    }\n",
              "\n",
              "    .dataframe tbody tr th {\n",
              "        vertical-align: top;\n",
              "    }\n",
              "\n",
              "    .dataframe thead th {\n",
              "        text-align: right;\n",
              "    }\n",
              "</style>\n",
              "<table border=\"1\" class=\"dataframe\">\n",
              "  <thead>\n",
              "    <tr style=\"text-align: right;\">\n",
              "      <th></th>\n",
              "      <th>Beer</th>\n",
              "      <th>Brewery</th>\n",
              "      <th>Location</th>\n",
              "      <th>Style</th>\n",
              "      <th>Size</th>\n",
              "      <th>ABV</th>\n",
              "      <th>IBUs</th>\n",
              "    </tr>\n",
              "  </thead>\n",
              "  <tbody>\n",
              "    <tr>\n",
              "      <th>0</th>\n",
              "      <td>Get Together</td>\n",
              "      <td>NorthGate Brewing</td>\n",
              "      <td>Minneapolis, MN</td>\n",
              "      <td>American IPA</td>\n",
              "      <td>16 oz.</td>\n",
              "      <td>4.50%</td>\n",
              "      <td>50.0</td>\n",
              "    </tr>\n",
              "    <tr>\n",
              "      <th>1</th>\n",
              "      <td>Maggie's Leap</td>\n",
              "      <td>NorthGate Brewing</td>\n",
              "      <td>Minneapolis, MN</td>\n",
              "      <td>Milk / Sweet Stout</td>\n",
              "      <td>16 oz.</td>\n",
              "      <td>4.90%</td>\n",
              "      <td>26.0</td>\n",
              "    </tr>\n",
              "    <tr>\n",
              "      <th>2</th>\n",
              "      <td>Wall's End</td>\n",
              "      <td>NorthGate Brewing</td>\n",
              "      <td>Minneapolis, MN</td>\n",
              "      <td>English Brown Ale</td>\n",
              "      <td>16 oz.</td>\n",
              "      <td>4.80%</td>\n",
              "      <td>19.0</td>\n",
              "    </tr>\n",
              "    <tr>\n",
              "      <th>3</th>\n",
              "      <td>Pumpion</td>\n",
              "      <td>NorthGate Brewing</td>\n",
              "      <td>Minneapolis, MN</td>\n",
              "      <td>Pumpkin Ale</td>\n",
              "      <td>16 oz.</td>\n",
              "      <td>6.00%</td>\n",
              "      <td>38.0</td>\n",
              "    </tr>\n",
              "    <tr>\n",
              "      <th>4</th>\n",
              "      <td>Stronghold</td>\n",
              "      <td>NorthGate Brewing</td>\n",
              "      <td>Minneapolis, MN</td>\n",
              "      <td>American Porter</td>\n",
              "      <td>16 oz.</td>\n",
              "      <td>6.00%</td>\n",
              "      <td>25.0</td>\n",
              "    </tr>\n",
              "    <tr>\n",
              "      <th>5</th>\n",
              "      <td>Parapet ESB</td>\n",
              "      <td>NorthGate Brewing</td>\n",
              "      <td>Minneapolis, MN</td>\n",
              "      <td>Extra Special / Strong Bitter (ESB)</td>\n",
              "      <td>16 oz.</td>\n",
              "      <td>5.60%</td>\n",
              "      <td>47.0</td>\n",
              "    </tr>\n",
              "    <tr>\n",
              "      <th>6</th>\n",
              "      <td>Citra Ass Down</td>\n",
              "      <td>Against the Grain Brewery</td>\n",
              "      <td>Louisville, KY</td>\n",
              "      <td>American Double / Imperial IPA</td>\n",
              "      <td>16 oz.</td>\n",
              "      <td>8.00%</td>\n",
              "      <td>68.0</td>\n",
              "    </tr>\n",
              "    <tr>\n",
              "      <th>7</th>\n",
              "      <td>London Balling</td>\n",
              "      <td>Against the Grain Brewery</td>\n",
              "      <td>Louisville, KY</td>\n",
              "      <td>English Barleywine</td>\n",
              "      <td>16 oz.</td>\n",
              "      <td>12.50%</td>\n",
              "      <td>80.0</td>\n",
              "    </tr>\n",
              "    <tr>\n",
              "      <th>8</th>\n",
              "      <td>35 K</td>\n",
              "      <td>Against the Grain Brewery</td>\n",
              "      <td>Louisville, KY</td>\n",
              "      <td>Milk / Sweet Stout</td>\n",
              "      <td>16 oz.</td>\n",
              "      <td>7.70%</td>\n",
              "      <td>25.0</td>\n",
              "    </tr>\n",
              "    <tr>\n",
              "      <th>9</th>\n",
              "      <td>A Beer</td>\n",
              "      <td>Against the Grain Brewery</td>\n",
              "      <td>Louisville, KY</td>\n",
              "      <td>American Pale Ale (APA)</td>\n",
              "      <td>16 oz.</td>\n",
              "      <td>4.20%</td>\n",
              "      <td>42.0</td>\n",
              "    </tr>\n",
              "  </tbody>\n",
              "</table>\n",
              "</div>"
            ],
            "text/plain": [
              "             Beer                    Brewery  ...     ABV  IBUs\n",
              "0    Get Together          NorthGate Brewing  ...   4.50%  50.0\n",
              "1   Maggie's Leap          NorthGate Brewing  ...   4.90%  26.0\n",
              "2      Wall's End          NorthGate Brewing  ...   4.80%  19.0\n",
              "3         Pumpion          NorthGate Brewing  ...   6.00%  38.0\n",
              "4      Stronghold          NorthGate Brewing  ...   6.00%  25.0\n",
              "5     Parapet ESB          NorthGate Brewing  ...   5.60%  47.0\n",
              "6  Citra Ass Down  Against the Grain Brewery  ...   8.00%  68.0\n",
              "7  London Balling  Against the Grain Brewery  ...  12.50%  80.0\n",
              "8            35 K  Against the Grain Brewery  ...   7.70%  25.0\n",
              "9          A Beer  Against the Grain Brewery  ...   4.20%  42.0\n",
              "\n",
              "[10 rows x 7 columns]"
            ]
          },
          "metadata": {
            "tags": []
          },
          "execution_count": 7
        }
      ]
    },
    {
      "cell_type": "markdown",
      "metadata": {
        "id": "0SW6XjP8h13m",
        "colab_type": "text"
      },
      "source": [
        "## Ποιο είναι το πιο κοινό μέγεθος μπύρας?\n"
      ]
    },
    {
      "cell_type": "code",
      "metadata": {
        "id": "dgYd9YC_k0Re",
        "colab_type": "code",
        "outputId": "e25110b8-35b9-492b-88a4-134f47044415",
        "colab": {
          "base_uri": "https://localhost:8080/",
          "height": 316
        }
      },
      "source": [
        "df['Size'].value_counts()"
      ],
      "execution_count": 8,
      "outputs": [
        {
          "output_type": "execute_result",
          "data": {
            "text/plain": [
              "12 oz.               1507\n",
              "16 oz.                814\n",
              "24 oz.                 21\n",
              "16 oz. Alumi-Tek®      15\n",
              "12 oz                  14\n",
              "19.2 oz.               14\n",
              "16 oz                  12\n",
              "32 oz.                  5\n",
              "12 ounce                1\n",
              "24 oz. \"Silo Can\"       1\n",
              "8.4 oz.                 1\n",
              "12 & 16 oz.             1\n",
              "16.9 oz.                1\n",
              "19.2                    1\n",
              "12 OZ.                  1\n",
              "12 oz. Slimline         1\n",
              "Name: Size, dtype: int64"
            ]
          },
          "metadata": {
            "tags": []
          },
          "execution_count": 8
        }
      ]
    },
    {
      "cell_type": "markdown",
      "metadata": {
        "id": "2eg3Fi_uh13t",
        "colab_type": "text"
      },
      "source": [
        "## Ποιο είναι το πιο συνηθισμένο ποσοστό αλκοόλ (ABV -  alcohol by volume)?\n"
      ]
    },
    {
      "cell_type": "code",
      "metadata": {
        "id": "toNEmT-9h13u",
        "colab_type": "code",
        "outputId": "63923f5b-907a-4b3d-a652-201928a7c5af",
        "colab": {
          "base_uri": "https://localhost:8080/",
          "height": 228
        }
      },
      "source": [
        "df['ABV'].value_counts()"
      ],
      "execution_count": 9,
      "outputs": [
        {
          "output_type": "execute_result",
          "data": {
            "text/plain": [
              "5.00%     215\n",
              "5.50%     158\n",
              "6.00%     125\n",
              "6.50%     123\n",
              "5.20%     107\n",
              "         ... \n",
              "12.50%      1\n",
              "9.40%       1\n",
              "2.80%       1\n",
              "0.10%       1\n",
              "10.00%      1\n",
              "Name: ABV, Length: 75, dtype: int64"
            ]
          },
          "metadata": {
            "tags": []
          },
          "execution_count": 9
        }
      ]
    },
    {
      "cell_type": "markdown",
      "metadata": {
        "id": "CTPg_vhth13y",
        "colab_type": "text"
      },
      "source": [
        "## Όπως βλέπετε το ABV δεν είναι αριθμός. Μετατρέψτε το σε αριθμό. \n",
        "\n",
        "3 βήματα:\n",
        "\n",
        "1. Επιλέξτε την στήλη ABV\n",
        "2. Αφαιρέστε το σύμβολο % (**βοήθεια** μετατρέψτε το σε κενό)\n",
        "3. Μετατρέψτε την στήλη τώρα σε `float`\n",
        "4. Μπορείτε να την σώσετε με ένα νέο column ή στο ίδιο.  \n",
        "\n",
        "Σε περίπτωση που όταν εισάγατε το αρχείο δεν ορίσατε ποια είναι τα κενά δεδομένα (nan) τότε ήρθε η ώρα να τα καθαρίσετε. "
      ]
    },
    {
      "cell_type": "code",
      "metadata": {
        "id": "Hey5lKoPnlQr",
        "colab_type": "code",
        "outputId": "e8e5b264-9a4a-4f4b-cb28-bf1605f77ac1",
        "colab": {
          "base_uri": "https://localhost:8080/",
          "height": 410
        }
      },
      "source": [
        "df.isnull()"
      ],
      "execution_count": 10,
      "outputs": [
        {
          "output_type": "execute_result",
          "data": {
            "text/html": [
              "<div>\n",
              "<style scoped>\n",
              "    .dataframe tbody tr th:only-of-type {\n",
              "        vertical-align: middle;\n",
              "    }\n",
              "\n",
              "    .dataframe tbody tr th {\n",
              "        vertical-align: top;\n",
              "    }\n",
              "\n",
              "    .dataframe thead th {\n",
              "        text-align: right;\n",
              "    }\n",
              "</style>\n",
              "<table border=\"1\" class=\"dataframe\">\n",
              "  <thead>\n",
              "    <tr style=\"text-align: right;\">\n",
              "      <th></th>\n",
              "      <th>Beer</th>\n",
              "      <th>Brewery</th>\n",
              "      <th>Location</th>\n",
              "      <th>Style</th>\n",
              "      <th>Size</th>\n",
              "      <th>ABV</th>\n",
              "      <th>IBUs</th>\n",
              "    </tr>\n",
              "  </thead>\n",
              "  <tbody>\n",
              "    <tr>\n",
              "      <th>0</th>\n",
              "      <td>False</td>\n",
              "      <td>False</td>\n",
              "      <td>False</td>\n",
              "      <td>False</td>\n",
              "      <td>False</td>\n",
              "      <td>False</td>\n",
              "      <td>False</td>\n",
              "    </tr>\n",
              "    <tr>\n",
              "      <th>1</th>\n",
              "      <td>False</td>\n",
              "      <td>False</td>\n",
              "      <td>False</td>\n",
              "      <td>False</td>\n",
              "      <td>False</td>\n",
              "      <td>False</td>\n",
              "      <td>False</td>\n",
              "    </tr>\n",
              "    <tr>\n",
              "      <th>2</th>\n",
              "      <td>False</td>\n",
              "      <td>False</td>\n",
              "      <td>False</td>\n",
              "      <td>False</td>\n",
              "      <td>False</td>\n",
              "      <td>False</td>\n",
              "      <td>False</td>\n",
              "    </tr>\n",
              "    <tr>\n",
              "      <th>3</th>\n",
              "      <td>False</td>\n",
              "      <td>False</td>\n",
              "      <td>False</td>\n",
              "      <td>False</td>\n",
              "      <td>False</td>\n",
              "      <td>False</td>\n",
              "      <td>False</td>\n",
              "    </tr>\n",
              "    <tr>\n",
              "      <th>4</th>\n",
              "      <td>False</td>\n",
              "      <td>False</td>\n",
              "      <td>False</td>\n",
              "      <td>False</td>\n",
              "      <td>False</td>\n",
              "      <td>False</td>\n",
              "      <td>False</td>\n",
              "    </tr>\n",
              "    <tr>\n",
              "      <th>...</th>\n",
              "      <td>...</td>\n",
              "      <td>...</td>\n",
              "      <td>...</td>\n",
              "      <td>...</td>\n",
              "      <td>...</td>\n",
              "      <td>...</td>\n",
              "      <td>...</td>\n",
              "    </tr>\n",
              "    <tr>\n",
              "      <th>2411</th>\n",
              "      <td>False</td>\n",
              "      <td>False</td>\n",
              "      <td>False</td>\n",
              "      <td>False</td>\n",
              "      <td>False</td>\n",
              "      <td>False</td>\n",
              "      <td>False</td>\n",
              "    </tr>\n",
              "    <tr>\n",
              "      <th>2412</th>\n",
              "      <td>False</td>\n",
              "      <td>False</td>\n",
              "      <td>False</td>\n",
              "      <td>False</td>\n",
              "      <td>False</td>\n",
              "      <td>False</td>\n",
              "      <td>False</td>\n",
              "    </tr>\n",
              "    <tr>\n",
              "      <th>2413</th>\n",
              "      <td>False</td>\n",
              "      <td>False</td>\n",
              "      <td>False</td>\n",
              "      <td>False</td>\n",
              "      <td>False</td>\n",
              "      <td>False</td>\n",
              "      <td>False</td>\n",
              "    </tr>\n",
              "    <tr>\n",
              "      <th>2414</th>\n",
              "      <td>False</td>\n",
              "      <td>False</td>\n",
              "      <td>False</td>\n",
              "      <td>False</td>\n",
              "      <td>False</td>\n",
              "      <td>False</td>\n",
              "      <td>False</td>\n",
              "    </tr>\n",
              "    <tr>\n",
              "      <th>2415</th>\n",
              "      <td>False</td>\n",
              "      <td>False</td>\n",
              "      <td>False</td>\n",
              "      <td>False</td>\n",
              "      <td>False</td>\n",
              "      <td>False</td>\n",
              "      <td>False</td>\n",
              "    </tr>\n",
              "  </tbody>\n",
              "</table>\n",
              "<p>2416 rows × 7 columns</p>\n",
              "</div>"
            ],
            "text/plain": [
              "       Beer  Brewery  Location  Style   Size    ABV   IBUs\n",
              "0     False    False     False  False  False  False  False\n",
              "1     False    False     False  False  False  False  False\n",
              "2     False    False     False  False  False  False  False\n",
              "3     False    False     False  False  False  False  False\n",
              "4     False    False     False  False  False  False  False\n",
              "...     ...      ...       ...    ...    ...    ...    ...\n",
              "2411  False    False     False  False  False  False  False\n",
              "2412  False    False     False  False  False  False  False\n",
              "2413  False    False     False  False  False  False  False\n",
              "2414  False    False     False  False  False  False  False\n",
              "2415  False    False     False  False  False  False  False\n",
              "\n",
              "[2416 rows x 7 columns]"
            ]
          },
          "metadata": {
            "tags": []
          },
          "execution_count": 10
        }
      ]
    },
    {
      "cell_type": "code",
      "metadata": {
        "id": "f3PsrVFtnv5C",
        "colab_type": "code",
        "outputId": "e090bf31-9621-4d76-fd58-23ca229a12b1",
        "colab": {
          "base_uri": "https://localhost:8080/",
          "height": 157
        }
      },
      "source": [
        "df.isnull().sum()"
      ],
      "execution_count": 11,
      "outputs": [
        {
          "output_type": "execute_result",
          "data": {
            "text/plain": [
              "Beer           0\n",
              "Brewery        6\n",
              "Location       6\n",
              "Style         11\n",
              "Size           6\n",
              "ABV            6\n",
              "IBUs        1011\n",
              "dtype: int64"
            ]
          },
          "metadata": {
            "tags": []
          },
          "execution_count": 11
        }
      ]
    },
    {
      "cell_type": "code",
      "metadata": {
        "id": "ls28ZarcpY_W",
        "colab_type": "code",
        "colab": {}
      },
      "source": [
        "missing_values = [\"n/a\", \"na\", \"--\", 999, \"???\", \"N/A\", \"Unknown\", \"UNKNOWN\"]"
      ],
      "execution_count": 0,
      "outputs": []
    },
    {
      "cell_type": "code",
      "metadata": {
        "id": "ZLKy6OWLoFt4",
        "colab_type": "code",
        "colab": {}
      },
      "source": [
        "df1= df.replace(\"???\", np.nan)"
      ],
      "execution_count": 0,
      "outputs": []
    },
    {
      "cell_type": "code",
      "metadata": {
        "id": "myPeakp2qJCz",
        "colab_type": "code",
        "outputId": "e3bc7550-c8ed-46f5-ebd8-88454123c97a",
        "colab": {
          "base_uri": "https://localhost:8080/",
          "height": 957
        }
      },
      "source": [
        "df1.head(30)"
      ],
      "execution_count": 14,
      "outputs": [
        {
          "output_type": "execute_result",
          "data": {
            "text/html": [
              "<div>\n",
              "<style scoped>\n",
              "    .dataframe tbody tr th:only-of-type {\n",
              "        vertical-align: middle;\n",
              "    }\n",
              "\n",
              "    .dataframe tbody tr th {\n",
              "        vertical-align: top;\n",
              "    }\n",
              "\n",
              "    .dataframe thead th {\n",
              "        text-align: right;\n",
              "    }\n",
              "</style>\n",
              "<table border=\"1\" class=\"dataframe\">\n",
              "  <thead>\n",
              "    <tr style=\"text-align: right;\">\n",
              "      <th></th>\n",
              "      <th>Beer</th>\n",
              "      <th>Brewery</th>\n",
              "      <th>Location</th>\n",
              "      <th>Style</th>\n",
              "      <th>Size</th>\n",
              "      <th>ABV</th>\n",
              "      <th>IBUs</th>\n",
              "    </tr>\n",
              "  </thead>\n",
              "  <tbody>\n",
              "    <tr>\n",
              "      <th>0</th>\n",
              "      <td>Get Together</td>\n",
              "      <td>NorthGate Brewing</td>\n",
              "      <td>Minneapolis, MN</td>\n",
              "      <td>American IPA</td>\n",
              "      <td>16 oz.</td>\n",
              "      <td>4.50%</td>\n",
              "      <td>50.0</td>\n",
              "    </tr>\n",
              "    <tr>\n",
              "      <th>1</th>\n",
              "      <td>Maggie's Leap</td>\n",
              "      <td>NorthGate Brewing</td>\n",
              "      <td>Minneapolis, MN</td>\n",
              "      <td>Milk / Sweet Stout</td>\n",
              "      <td>16 oz.</td>\n",
              "      <td>4.90%</td>\n",
              "      <td>26.0</td>\n",
              "    </tr>\n",
              "    <tr>\n",
              "      <th>2</th>\n",
              "      <td>Wall's End</td>\n",
              "      <td>NorthGate Brewing</td>\n",
              "      <td>Minneapolis, MN</td>\n",
              "      <td>English Brown Ale</td>\n",
              "      <td>16 oz.</td>\n",
              "      <td>4.80%</td>\n",
              "      <td>19.0</td>\n",
              "    </tr>\n",
              "    <tr>\n",
              "      <th>3</th>\n",
              "      <td>Pumpion</td>\n",
              "      <td>NorthGate Brewing</td>\n",
              "      <td>Minneapolis, MN</td>\n",
              "      <td>Pumpkin Ale</td>\n",
              "      <td>16 oz.</td>\n",
              "      <td>6.00%</td>\n",
              "      <td>38.0</td>\n",
              "    </tr>\n",
              "    <tr>\n",
              "      <th>4</th>\n",
              "      <td>Stronghold</td>\n",
              "      <td>NorthGate Brewing</td>\n",
              "      <td>Minneapolis, MN</td>\n",
              "      <td>American Porter</td>\n",
              "      <td>16 oz.</td>\n",
              "      <td>6.00%</td>\n",
              "      <td>25.0</td>\n",
              "    </tr>\n",
              "    <tr>\n",
              "      <th>5</th>\n",
              "      <td>Parapet ESB</td>\n",
              "      <td>NorthGate Brewing</td>\n",
              "      <td>Minneapolis, MN</td>\n",
              "      <td>Extra Special / Strong Bitter (ESB)</td>\n",
              "      <td>16 oz.</td>\n",
              "      <td>5.60%</td>\n",
              "      <td>47.0</td>\n",
              "    </tr>\n",
              "    <tr>\n",
              "      <th>6</th>\n",
              "      <td>Citra Ass Down</td>\n",
              "      <td>Against the Grain Brewery</td>\n",
              "      <td>Louisville, KY</td>\n",
              "      <td>American Double / Imperial IPA</td>\n",
              "      <td>16 oz.</td>\n",
              "      <td>8.00%</td>\n",
              "      <td>68.0</td>\n",
              "    </tr>\n",
              "    <tr>\n",
              "      <th>7</th>\n",
              "      <td>London Balling</td>\n",
              "      <td>Against the Grain Brewery</td>\n",
              "      <td>Louisville, KY</td>\n",
              "      <td>English Barleywine</td>\n",
              "      <td>16 oz.</td>\n",
              "      <td>12.50%</td>\n",
              "      <td>80.0</td>\n",
              "    </tr>\n",
              "    <tr>\n",
              "      <th>8</th>\n",
              "      <td>35 K</td>\n",
              "      <td>Against the Grain Brewery</td>\n",
              "      <td>Louisville, KY</td>\n",
              "      <td>Milk / Sweet Stout</td>\n",
              "      <td>16 oz.</td>\n",
              "      <td>7.70%</td>\n",
              "      <td>25.0</td>\n",
              "    </tr>\n",
              "    <tr>\n",
              "      <th>9</th>\n",
              "      <td>A Beer</td>\n",
              "      <td>Against the Grain Brewery</td>\n",
              "      <td>Louisville, KY</td>\n",
              "      <td>American Pale Ale (APA)</td>\n",
              "      <td>16 oz.</td>\n",
              "      <td>4.20%</td>\n",
              "      <td>42.0</td>\n",
              "    </tr>\n",
              "    <tr>\n",
              "      <th>10</th>\n",
              "      <td>Rules are Rules</td>\n",
              "      <td>Against the Grain Brewery</td>\n",
              "      <td>Louisville, KY</td>\n",
              "      <td>German Pilsener</td>\n",
              "      <td>16 oz.</td>\n",
              "      <td>5.00%</td>\n",
              "      <td>25.0</td>\n",
              "    </tr>\n",
              "    <tr>\n",
              "      <th>11</th>\n",
              "      <td>Flesh Gourd'n</td>\n",
              "      <td>Against the Grain Brewery</td>\n",
              "      <td>Louisville, KY</td>\n",
              "      <td>Pumpkin Ale</td>\n",
              "      <td>16 oz.</td>\n",
              "      <td>6.60%</td>\n",
              "      <td>21.0</td>\n",
              "    </tr>\n",
              "    <tr>\n",
              "      <th>12</th>\n",
              "      <td>Sho'nuff</td>\n",
              "      <td>Against the Grain Brewery</td>\n",
              "      <td>Louisville, KY</td>\n",
              "      <td>Belgian Pale Ale</td>\n",
              "      <td>16 oz.</td>\n",
              "      <td>4.00%</td>\n",
              "      <td>13.0</td>\n",
              "    </tr>\n",
              "    <tr>\n",
              "      <th>13</th>\n",
              "      <td>Bloody Show</td>\n",
              "      <td>Against the Grain Brewery</td>\n",
              "      <td>Louisville, KY</td>\n",
              "      <td>American Pilsner</td>\n",
              "      <td>16 oz.</td>\n",
              "      <td>5.50%</td>\n",
              "      <td>17.0</td>\n",
              "    </tr>\n",
              "    <tr>\n",
              "      <th>14</th>\n",
              "      <td>Rico Sauvin</td>\n",
              "      <td>Against the Grain Brewery</td>\n",
              "      <td>Louisville, KY</td>\n",
              "      <td>American Double / Imperial IPA</td>\n",
              "      <td>16 oz.</td>\n",
              "      <td>7.60%</td>\n",
              "      <td>68.0</td>\n",
              "    </tr>\n",
              "    <tr>\n",
              "      <th>15</th>\n",
              "      <td>Coq de la Marche</td>\n",
              "      <td>Against the Grain Brewery</td>\n",
              "      <td>Louisville, KY</td>\n",
              "      <td>Saison / Farmhouse Ale</td>\n",
              "      <td>16 oz.</td>\n",
              "      <td>5.10%</td>\n",
              "      <td>38.0</td>\n",
              "    </tr>\n",
              "    <tr>\n",
              "      <th>16</th>\n",
              "      <td>Kamen Knuddeln</td>\n",
              "      <td>Against the Grain Brewery</td>\n",
              "      <td>Louisville, KY</td>\n",
              "      <td>American Wild Ale</td>\n",
              "      <td>16 oz.</td>\n",
              "      <td>6.50%</td>\n",
              "      <td>NaN</td>\n",
              "    </tr>\n",
              "    <tr>\n",
              "      <th>17</th>\n",
              "      <td>Pile of Face</td>\n",
              "      <td>Against the Grain Brewery</td>\n",
              "      <td>Louisville, KY</td>\n",
              "      <td>American IPA</td>\n",
              "      <td>16 oz.</td>\n",
              "      <td>6.00%</td>\n",
              "      <td>65.0</td>\n",
              "    </tr>\n",
              "    <tr>\n",
              "      <th>18</th>\n",
              "      <td>The Brown Note</td>\n",
              "      <td>Against the Grain Brewery</td>\n",
              "      <td>Louisville, KY</td>\n",
              "      <td>English Brown Ale</td>\n",
              "      <td>16 oz.</td>\n",
              "      <td>5.00%</td>\n",
              "      <td>20.0</td>\n",
              "    </tr>\n",
              "    <tr>\n",
              "      <th>19</th>\n",
              "      <td>House Lager</td>\n",
              "      <td>Jack's Abby Craft Lagers</td>\n",
              "      <td>Framingham, MA</td>\n",
              "      <td>Keller Bier / Zwickel Bier</td>\n",
              "      <td>16 oz.</td>\n",
              "      <td>5.20%</td>\n",
              "      <td>18.0</td>\n",
              "    </tr>\n",
              "    <tr>\n",
              "      <th>20</th>\n",
              "      <td>Leisure Time</td>\n",
              "      <td>Jack's Abby Craft Lagers</td>\n",
              "      <td>Framingham, MA</td>\n",
              "      <td>American Pale Lager</td>\n",
              "      <td>12 oz.</td>\n",
              "      <td>4.80%</td>\n",
              "      <td>15.0</td>\n",
              "    </tr>\n",
              "    <tr>\n",
              "      <th>21</th>\n",
              "      <td>Excess IPL</td>\n",
              "      <td>Jack's Abby Craft Lagers</td>\n",
              "      <td>Framingham, MA</td>\n",
              "      <td>American India Pale Lager</td>\n",
              "      <td>16 oz.</td>\n",
              "      <td>7.20%</td>\n",
              "      <td>80.0</td>\n",
              "    </tr>\n",
              "    <tr>\n",
              "      <th>22</th>\n",
              "      <td>Hoponius Union</td>\n",
              "      <td>Jack's Abby Craft Lagers</td>\n",
              "      <td>Framingham, MA</td>\n",
              "      <td>American India Pale Lager</td>\n",
              "      <td>12 oz.</td>\n",
              "      <td>6.70%</td>\n",
              "      <td>65.0</td>\n",
              "    </tr>\n",
              "    <tr>\n",
              "      <th>23</th>\n",
              "      <td>Calyptra</td>\n",
              "      <td>Jack's Abby Craft Lagers</td>\n",
              "      <td>Framingham, MA</td>\n",
              "      <td>American India Pale Lager</td>\n",
              "      <td>12 oz.</td>\n",
              "      <td>4.90%</td>\n",
              "      <td>45.0</td>\n",
              "    </tr>\n",
              "    <tr>\n",
              "      <th>24</th>\n",
              "      <td>Habitus (2014)</td>\n",
              "      <td>Mike Hess Brewing Company</td>\n",
              "      <td>San Diego, CA</td>\n",
              "      <td>American Double / Imperial IPA</td>\n",
              "      <td>16 oz.</td>\n",
              "      <td>8.00%</td>\n",
              "      <td>100.0</td>\n",
              "    </tr>\n",
              "    <tr>\n",
              "      <th>25</th>\n",
              "      <td>Solis</td>\n",
              "      <td>Mike Hess Brewing Company</td>\n",
              "      <td>San Diego, CA</td>\n",
              "      <td>American IPA</td>\n",
              "      <td>16 oz.</td>\n",
              "      <td>7.50%</td>\n",
              "      <td>85.0</td>\n",
              "    </tr>\n",
              "    <tr>\n",
              "      <th>26</th>\n",
              "      <td>Jucundus</td>\n",
              "      <td>Mike Hess Brewing Company</td>\n",
              "      <td>San Diego, CA</td>\n",
              "      <td>Wheat Ale</td>\n",
              "      <td>16 oz.</td>\n",
              "      <td>6.00%</td>\n",
              "      <td>24.0</td>\n",
              "    </tr>\n",
              "    <tr>\n",
              "      <th>27</th>\n",
              "      <td>Habitus</td>\n",
              "      <td>Mike Hess Brewing Company</td>\n",
              "      <td>San Diego, CA</td>\n",
              "      <td>American Double / Imperial IPA</td>\n",
              "      <td>16 oz.</td>\n",
              "      <td>8.00%</td>\n",
              "      <td>100.0</td>\n",
              "    </tr>\n",
              "    <tr>\n",
              "      <th>28</th>\n",
              "      <td>Grazias</td>\n",
              "      <td>Mike Hess Brewing Company</td>\n",
              "      <td>San Diego, CA</td>\n",
              "      <td>Cream Ale</td>\n",
              "      <td>16 oz.</td>\n",
              "      <td>6.30%</td>\n",
              "      <td>30.0</td>\n",
              "    </tr>\n",
              "    <tr>\n",
              "      <th>29</th>\n",
              "      <td>Claritas</td>\n",
              "      <td>Mike Hess Brewing Company</td>\n",
              "      <td>San Diego, CA</td>\n",
              "      <td>Kölsch</td>\n",
              "      <td>16 oz.</td>\n",
              "      <td>5.80%</td>\n",
              "      <td>28.0</td>\n",
              "    </tr>\n",
              "  </tbody>\n",
              "</table>\n",
              "</div>"
            ],
            "text/plain": [
              "                Beer                    Brewery  ...     ABV   IBUs\n",
              "0       Get Together          NorthGate Brewing  ...   4.50%   50.0\n",
              "1      Maggie's Leap          NorthGate Brewing  ...   4.90%   26.0\n",
              "2         Wall's End          NorthGate Brewing  ...   4.80%   19.0\n",
              "3            Pumpion          NorthGate Brewing  ...   6.00%   38.0\n",
              "4         Stronghold          NorthGate Brewing  ...   6.00%   25.0\n",
              "5        Parapet ESB          NorthGate Brewing  ...   5.60%   47.0\n",
              "6     Citra Ass Down  Against the Grain Brewery  ...   8.00%   68.0\n",
              "7     London Balling  Against the Grain Brewery  ...  12.50%   80.0\n",
              "8               35 K  Against the Grain Brewery  ...   7.70%   25.0\n",
              "9             A Beer  Against the Grain Brewery  ...   4.20%   42.0\n",
              "10   Rules are Rules  Against the Grain Brewery  ...   5.00%   25.0\n",
              "11     Flesh Gourd'n  Against the Grain Brewery  ...   6.60%   21.0\n",
              "12          Sho'nuff  Against the Grain Brewery  ...   4.00%   13.0\n",
              "13       Bloody Show  Against the Grain Brewery  ...   5.50%   17.0\n",
              "14       Rico Sauvin  Against the Grain Brewery  ...   7.60%   68.0\n",
              "15  Coq de la Marche  Against the Grain Brewery  ...   5.10%   38.0\n",
              "16    Kamen Knuddeln  Against the Grain Brewery  ...   6.50%    NaN\n",
              "17      Pile of Face  Against the Grain Brewery  ...   6.00%   65.0\n",
              "18    The Brown Note  Against the Grain Brewery  ...   5.00%   20.0\n",
              "19       House Lager   Jack's Abby Craft Lagers  ...   5.20%   18.0\n",
              "20      Leisure Time   Jack's Abby Craft Lagers  ...   4.80%   15.0\n",
              "21        Excess IPL   Jack's Abby Craft Lagers  ...   7.20%   80.0\n",
              "22    Hoponius Union   Jack's Abby Craft Lagers  ...   6.70%   65.0\n",
              "23          Calyptra   Jack's Abby Craft Lagers  ...   4.90%   45.0\n",
              "24    Habitus (2014)  Mike Hess Brewing Company  ...   8.00%  100.0\n",
              "25             Solis  Mike Hess Brewing Company  ...   7.50%   85.0\n",
              "26          Jucundus  Mike Hess Brewing Company  ...   6.00%   24.0\n",
              "27           Habitus  Mike Hess Brewing Company  ...   8.00%  100.0\n",
              "28           Grazias  Mike Hess Brewing Company  ...   6.30%   30.0\n",
              "29          Claritas  Mike Hess Brewing Company  ...   5.80%   28.0\n",
              "\n",
              "[30 rows x 7 columns]"
            ]
          },
          "metadata": {
            "tags": []
          },
          "execution_count": 14
        }
      ]
    },
    {
      "cell_type": "code",
      "metadata": {
        "id": "TjgJignJh13y",
        "colab_type": "code",
        "outputId": "84d12db1-8f3b-4ce9-8b1c-c481c5eee42a",
        "colab": {
          "base_uri": "https://localhost:8080/",
          "height": 228
        }
      },
      "source": [
        "df1['ABV'] = df1['ABV'].str.replace('%', '') # etsi to anagnorizei\n",
        "df1['ABV']"
      ],
      "execution_count": 15,
      "outputs": [
        {
          "output_type": "execute_result",
          "data": {
            "text/plain": [
              "0       4.50\n",
              "1       4.90\n",
              "2       4.80\n",
              "3       6.00\n",
              "4       6.00\n",
              "        ... \n",
              "2411    5.30\n",
              "2412    9.90\n",
              "2413    8.00\n",
              "2414    8.70\n",
              "2415    6.50\n",
              "Name: ABV, Length: 2416, dtype: object"
            ]
          },
          "metadata": {
            "tags": []
          },
          "execution_count": 15
        }
      ]
    },
    {
      "cell_type": "code",
      "metadata": {
        "id": "eTcG_g_erJ72",
        "colab_type": "code",
        "outputId": "0e6416e6-2d39-4725-ba68-edfde250021a",
        "colab": {
          "base_uri": "https://localhost:8080/",
          "height": 199
        }
      },
      "source": [
        "df1.head(5)"
      ],
      "execution_count": 16,
      "outputs": [
        {
          "output_type": "execute_result",
          "data": {
            "text/html": [
              "<div>\n",
              "<style scoped>\n",
              "    .dataframe tbody tr th:only-of-type {\n",
              "        vertical-align: middle;\n",
              "    }\n",
              "\n",
              "    .dataframe tbody tr th {\n",
              "        vertical-align: top;\n",
              "    }\n",
              "\n",
              "    .dataframe thead th {\n",
              "        text-align: right;\n",
              "    }\n",
              "</style>\n",
              "<table border=\"1\" class=\"dataframe\">\n",
              "  <thead>\n",
              "    <tr style=\"text-align: right;\">\n",
              "      <th></th>\n",
              "      <th>Beer</th>\n",
              "      <th>Brewery</th>\n",
              "      <th>Location</th>\n",
              "      <th>Style</th>\n",
              "      <th>Size</th>\n",
              "      <th>ABV</th>\n",
              "      <th>IBUs</th>\n",
              "    </tr>\n",
              "  </thead>\n",
              "  <tbody>\n",
              "    <tr>\n",
              "      <th>0</th>\n",
              "      <td>Get Together</td>\n",
              "      <td>NorthGate Brewing</td>\n",
              "      <td>Minneapolis, MN</td>\n",
              "      <td>American IPA</td>\n",
              "      <td>16 oz.</td>\n",
              "      <td>4.50</td>\n",
              "      <td>50.0</td>\n",
              "    </tr>\n",
              "    <tr>\n",
              "      <th>1</th>\n",
              "      <td>Maggie's Leap</td>\n",
              "      <td>NorthGate Brewing</td>\n",
              "      <td>Minneapolis, MN</td>\n",
              "      <td>Milk / Sweet Stout</td>\n",
              "      <td>16 oz.</td>\n",
              "      <td>4.90</td>\n",
              "      <td>26.0</td>\n",
              "    </tr>\n",
              "    <tr>\n",
              "      <th>2</th>\n",
              "      <td>Wall's End</td>\n",
              "      <td>NorthGate Brewing</td>\n",
              "      <td>Minneapolis, MN</td>\n",
              "      <td>English Brown Ale</td>\n",
              "      <td>16 oz.</td>\n",
              "      <td>4.80</td>\n",
              "      <td>19.0</td>\n",
              "    </tr>\n",
              "    <tr>\n",
              "      <th>3</th>\n",
              "      <td>Pumpion</td>\n",
              "      <td>NorthGate Brewing</td>\n",
              "      <td>Minneapolis, MN</td>\n",
              "      <td>Pumpkin Ale</td>\n",
              "      <td>16 oz.</td>\n",
              "      <td>6.00</td>\n",
              "      <td>38.0</td>\n",
              "    </tr>\n",
              "    <tr>\n",
              "      <th>4</th>\n",
              "      <td>Stronghold</td>\n",
              "      <td>NorthGate Brewing</td>\n",
              "      <td>Minneapolis, MN</td>\n",
              "      <td>American Porter</td>\n",
              "      <td>16 oz.</td>\n",
              "      <td>6.00</td>\n",
              "      <td>25.0</td>\n",
              "    </tr>\n",
              "  </tbody>\n",
              "</table>\n",
              "</div>"
            ],
            "text/plain": [
              "            Beer            Brewery         Location  ...    Size   ABV  IBUs\n",
              "0   Get Together  NorthGate Brewing  Minneapolis, MN  ...  16 oz.  4.50  50.0\n",
              "1  Maggie's Leap  NorthGate Brewing  Minneapolis, MN  ...  16 oz.  4.90  26.0\n",
              "2     Wall's End  NorthGate Brewing  Minneapolis, MN  ...  16 oz.  4.80  19.0\n",
              "3        Pumpion  NorthGate Brewing  Minneapolis, MN  ...  16 oz.  6.00  38.0\n",
              "4     Stronghold  NorthGate Brewing  Minneapolis, MN  ...  16 oz.  6.00  25.0\n",
              "\n",
              "[5 rows x 7 columns]"
            ]
          },
          "metadata": {
            "tags": []
          },
          "execution_count": 16
        }
      ]
    },
    {
      "cell_type": "code",
      "metadata": {
        "id": "YzbSph9bngBR",
        "colab_type": "code",
        "colab": {}
      },
      "source": [
        "df1.ABV = df1.ABV.astype(float)"
      ],
      "execution_count": 0,
      "outputs": []
    },
    {
      "cell_type": "code",
      "metadata": {
        "id": "xzm0l9yCq6og",
        "colab_type": "code",
        "outputId": "e8a57912-2aa1-4082-ac09-074e15bb7b62",
        "colab": {
          "base_uri": "https://localhost:8080/",
          "height": 157
        }
      },
      "source": [
        "df1.dtypes"
      ],
      "execution_count": 18,
      "outputs": [
        {
          "output_type": "execute_result",
          "data": {
            "text/plain": [
              "Beer         object\n",
              "Brewery      object\n",
              "Location     object\n",
              "Style        object\n",
              "Size         object\n",
              "ABV         float64\n",
              "IBUs        float64\n",
              "dtype: object"
            ]
          },
          "metadata": {
            "tags": []
          },
          "execution_count": 18
        }
      ]
    },
    {
      "cell_type": "markdown",
      "metadata": {
        "id": "zM_wHuaOh132",
        "colab_type": "text"
      },
      "source": [
        "# Περιοχές\n"
      ]
    },
    {
      "cell_type": "markdown",
      "metadata": {
        "id": "GSzY7M5hh133",
        "colab_type": "text"
      },
      "source": [
        "## Ποιες είναι οι top 10 πόλεις των ΗΠΑ σε παραγωγή μπύρας? "
      ]
    },
    {
      "cell_type": "code",
      "metadata": {
        "id": "qtSA03Zjh133",
        "colab_type": "code",
        "outputId": "c0723dd3-71d1-4227-dc75-40f8d038e10a",
        "colab": {
          "base_uri": "https://localhost:8080/",
          "height": 210
        }
      },
      "source": [
        "df1[\"Location\"].value_counts().head(10)"
      ],
      "execution_count": 22,
      "outputs": [
        {
          "output_type": "execute_result",
          "data": {
            "text/plain": [
              "Grand Rapids, MI    66\n",
              "Chicago, IL         55\n",
              "Portland, OR        52\n",
              "Indianapolis, IN    43\n",
              "San Diego, CA       42\n",
              "Boulder, CO         41\n",
              "Denver, CO          40\n",
              "Brooklyn, NY        38\n",
              "Seattle, WA         35\n",
              "Longmont, CO        33\n",
              "Name: Location, dtype: int64"
            ]
          },
          "metadata": {
            "tags": []
          },
          "execution_count": 22
        }
      ]
    },
    {
      "cell_type": "markdown",
      "metadata": {
        "id": "p1_Blrgjh138",
        "colab_type": "text"
      },
      "source": [
        "## Βρείτε όλα τα ζυθοποιεία στο Brooklyn, NY"
      ]
    },
    {
      "cell_type": "code",
      "metadata": {
        "id": "KPFYXzTxh139",
        "colab_type": "code",
        "outputId": "7d52eccb-cad5-4f39-b526-6b91572b1e96",
        "colab": {
          "base_uri": "https://localhost:8080/",
          "height": 702
        }
      },
      "source": [
        "#Με τον παρακάτω τρόπο μπορούμε να ζητήσουμε όσες γραμμές είναι ίσες με Brooklyn,\n",
        "# και να μας δείξει και την στήλη που ψάχνουμε δίπλα βάζοντας την μέσα σε [ ]\n",
        "df1[df1['Location'] == 'Brooklyn, NY']['Beer']"
      ],
      "execution_count": 23,
      "outputs": [
        {
          "output_type": "execute_result",
          "data": {
            "text/plain": [
              "115                              4Beans\n",
              "210                              Jammer\n",
              "246                             Abigale\n",
              "404                       Nomader Weiss\n",
              "421                                 Rad\n",
              "439                        Molotov Lite\n",
              "588                             Bengali\n",
              "713                       Sensi Harvest\n",
              "969                              Hi-Res\n",
              "987               KelSo Nut Brown Lager\n",
              "1057                      Global Warmer\n",
              "1074                 Autumnation (2013)\n",
              "1093               KelSo India Pale Ale\n",
              "1267                          The Crisp\n",
              "1268                       Sweet Action\n",
              "1269                      Righteous Ale\n",
              "1270                      Bengali Tiger\n",
              "1305                      KelSo Pilsner\n",
              "1365    Hipster Ale (Two Roads Brewing)\n",
              "1366                        Bikini Beer\n",
              "1373                East India Pale Ale\n",
              "1624                             3Beans\n",
              "1836                         Brownstone\n",
              "1857                Brooklyn Summer Ale\n",
              "1962    Hipster Ale (Westbrook Brewing)\n",
              "1970                             Apollo\n",
              "1971                          Harbinger\n",
              "1972                              Resin\n",
              "2027                East India Pale Ale\n",
              "2062                             Diesel\n",
              "2074       Autumnation (2011-12) (2011)\n",
              "2140                   The Crisp (2011)\n",
              "2141                Sweet Action (2011)\n",
              "2142               Righteous Ale (2011)\n",
              "2143               Bengali Tiger (2011)\n",
              "2219         Brooklyn Summer Ale (2011)\n",
              "2350            Brooklyn Lager (16 oz.)\n",
              "2351            Brooklyn Lager (12 oz.)\n",
              "Name: Beer, dtype: object"
            ]
          },
          "metadata": {
            "tags": []
          },
          "execution_count": 23
        }
      ]
    },
    {
      "cell_type": "markdown",
      "metadata": {
        "id": "z_F_Vu1Uh14B",
        "colab_type": "text"
      },
      "source": [
        "## Ποιο ζυθοποιείο στο Brooklyn έχει τη μεγαλύτερη παραγωγή?"
      ]
    },
    {
      "cell_type": "code",
      "metadata": {
        "id": "-i--ls-Fh14C",
        "colab_type": "code",
        "outputId": "065db10c-240c-47eb-da3a-144891c5c8e8",
        "colab": {
          "base_uri": "https://localhost:8080/",
          "height": 34
        }
      },
      "source": [
        "df1[df1['Location'] == 'Brooklyn, NY']['Beer'].max()"
      ],
      "execution_count": 24,
      "outputs": [
        {
          "output_type": "execute_result",
          "data": {
            "text/plain": [
              "'The Crisp (2011)'"
            ]
          },
          "metadata": {
            "tags": []
          },
          "execution_count": 24
        }
      ]
    },
    {
      "cell_type": "markdown",
      "metadata": {
        "id": "I1geGO2jh14F",
        "colab_type": "text"
      },
      "source": [
        "## Ποια είναι τα 5 δημοφιλέστερα είδη μπύρας που παράγει η Sixpoint?"
      ]
    },
    {
      "cell_type": "code",
      "metadata": {
        "id": "9wt-WnmDh14G",
        "colab_type": "code",
        "outputId": "00f1d94b-9438-4611-8d4b-8bfada8ec564",
        "colab": {
          "base_uri": "https://localhost:8080/",
          "height": 122
        }
      },
      "source": [
        "df1[df1['Brewery'] == 'Sixpoint Craft Ales']['Beer'].head(5)"
      ],
      "execution_count": 25,
      "outputs": [
        {
          "output_type": "execute_result",
          "data": {
            "text/plain": [
              "115     4Beans\n",
              "210     Jammer\n",
              "246    Abigale\n",
              "421        Rad\n",
              "588    Bengali\n",
              "Name: Beer, dtype: object"
            ]
          },
          "metadata": {
            "tags": []
          },
          "execution_count": 25
        }
      ]
    },
    {
      "cell_type": "markdown",
      "metadata": {
        "id": "RtmuY23Xh14L",
        "colab_type": "text"
      },
      "source": [
        "## Βρείτε όλα τα ζυθοποιεία στην Νέα Υόρκη και μετά μετρήστε τα. "
      ]
    },
    {
      "cell_type": "code",
      "metadata": {
        "id": "TLhy8koFh14M",
        "colab_type": "code",
        "outputId": "227c6072-6452-4ace-b486-2d69c410974c",
        "colab": {
          "base_uri": "https://localhost:8080/",
          "height": 139
        }
      },
      "source": [
        "df2= df1[df1['Location'] == 'New York, NY']\n",
        "df2"
      ],
      "execution_count": 26,
      "outputs": [
        {
          "output_type": "execute_result",
          "data": {
            "text/html": [
              "<div>\n",
              "<style scoped>\n",
              "    .dataframe tbody tr th:only-of-type {\n",
              "        vertical-align: middle;\n",
              "    }\n",
              "\n",
              "    .dataframe tbody tr th {\n",
              "        vertical-align: top;\n",
              "    }\n",
              "\n",
              "    .dataframe thead th {\n",
              "        text-align: right;\n",
              "    }\n",
              "</style>\n",
              "<table border=\"1\" class=\"dataframe\">\n",
              "  <thead>\n",
              "    <tr style=\"text-align: right;\">\n",
              "      <th></th>\n",
              "      <th>Beer</th>\n",
              "      <th>Brewery</th>\n",
              "      <th>Location</th>\n",
              "      <th>Style</th>\n",
              "      <th>Size</th>\n",
              "      <th>ABV</th>\n",
              "      <th>IBUs</th>\n",
              "    </tr>\n",
              "  </thead>\n",
              "  <tbody>\n",
              "    <tr>\n",
              "      <th>1679</th>\n",
              "      <td>Manhattan Gold Lager (1990)</td>\n",
              "      <td>The Manhattan Brewing Company</td>\n",
              "      <td>New York, NY</td>\n",
              "      <td>American Amber / Red Lager</td>\n",
              "      <td>12 oz.</td>\n",
              "      <td>NaN</td>\n",
              "      <td>NaN</td>\n",
              "    </tr>\n",
              "    <tr>\n",
              "      <th>2015</th>\n",
              "      <td>Bomb Lager (New Recipe)</td>\n",
              "      <td>Bomb Beer Company</td>\n",
              "      <td>New York, NY</td>\n",
              "      <td>Munich Helles Lager</td>\n",
              "      <td>12 oz.</td>\n",
              "      <td>5.1</td>\n",
              "      <td>NaN</td>\n",
              "    </tr>\n",
              "    <tr>\n",
              "      <th>2073</th>\n",
              "      <td>Bomb Lager (Old Recipe)</td>\n",
              "      <td>Bomb Beer Company</td>\n",
              "      <td>New York, NY</td>\n",
              "      <td>Munich Helles Lager</td>\n",
              "      <td>12 oz.</td>\n",
              "      <td>4.5</td>\n",
              "      <td>27.0</td>\n",
              "    </tr>\n",
              "  </tbody>\n",
              "</table>\n",
              "</div>"
            ],
            "text/plain": [
              "                             Beer                        Brewery  ...  ABV  IBUs\n",
              "1679  Manhattan Gold Lager (1990)  The Manhattan Brewing Company  ...  NaN   NaN\n",
              "2015      Bomb Lager (New Recipe)              Bomb Beer Company  ...  5.1   NaN\n",
              "2073      Bomb Lager (Old Recipe)              Bomb Beer Company  ...  4.5  27.0\n",
              "\n",
              "[3 rows x 7 columns]"
            ]
          },
          "metadata": {
            "tags": []
          },
          "execution_count": 26
        }
      ]
    },
    {
      "cell_type": "code",
      "metadata": {
        "id": "fYJ-LFzC8wPW",
        "colab_type": "code",
        "outputId": "90cb0262-c35a-4b90-e93b-acb19d3b550b",
        "colab": {
          "base_uri": "https://localhost:8080/",
          "height": 52
        }
      },
      "source": [
        "df2['Location'].value_counts()"
      ],
      "execution_count": 27,
      "outputs": [
        {
          "output_type": "execute_result",
          "data": {
            "text/plain": [
              "New York, NY    3\n",
              "Name: Location, dtype: int64"
            ]
          },
          "metadata": {
            "tags": []
          },
          "execution_count": 27
        }
      ]
    },
    {
      "cell_type": "markdown",
      "metadata": {
        "id": "FT86zKYoh14R",
        "colab_type": "text"
      },
      "source": [
        "# Μέτρηση πικράδας!  \n",
        "\n",
        "Η μονάδα μέτρησης IBU σημαίνει [International Bitterness Unit](http://www.thebrewenthusiast.com/ibus/), συνήθως οι ζυθοποιοί καμαρώνουν όταν έχουν πικρή μπύρα!\n"
      ]
    },
    {
      "cell_type": "markdown",
      "metadata": {
        "id": "apKuUDYuh14R",
        "colab_type": "text"
      },
      "source": [
        "## Ποιος είναι ο μέσος όρος IBU σε όλες τις μπύρες?"
      ]
    },
    {
      "cell_type": "code",
      "metadata": {
        "id": "kwh8LUXiuvJu",
        "colab_type": "code",
        "outputId": "0292208d-8e69-458a-d895-b1abc2f4a656",
        "colab": {
          "base_uri": "https://localhost:8080/",
          "height": 440
        }
      },
      "source": [
        "df1.groupby(\"IBUs\").mean()"
      ],
      "execution_count": 28,
      "outputs": [
        {
          "output_type": "execute_result",
          "data": {
            "text/html": [
              "<div>\n",
              "<style scoped>\n",
              "    .dataframe tbody tr th:only-of-type {\n",
              "        vertical-align: middle;\n",
              "    }\n",
              "\n",
              "    .dataframe tbody tr th {\n",
              "        vertical-align: top;\n",
              "    }\n",
              "\n",
              "    .dataframe thead th {\n",
              "        text-align: right;\n",
              "    }\n",
              "</style>\n",
              "<table border=\"1\" class=\"dataframe\">\n",
              "  <thead>\n",
              "    <tr style=\"text-align: right;\">\n",
              "      <th></th>\n",
              "      <th>ABV</th>\n",
              "    </tr>\n",
              "    <tr>\n",
              "      <th>IBUs</th>\n",
              "      <th></th>\n",
              "    </tr>\n",
              "  </thead>\n",
              "  <tbody>\n",
              "    <tr>\n",
              "      <th>4.0</th>\n",
              "      <td>5.600000</td>\n",
              "    </tr>\n",
              "    <tr>\n",
              "      <th>5.0</th>\n",
              "      <td>5.400000</td>\n",
              "    </tr>\n",
              "    <tr>\n",
              "      <th>6.0</th>\n",
              "      <td>4.933333</td>\n",
              "    </tr>\n",
              "    <tr>\n",
              "      <th>7.0</th>\n",
              "      <td>4.828571</td>\n",
              "    </tr>\n",
              "    <tr>\n",
              "      <th>8.0</th>\n",
              "      <td>4.622222</td>\n",
              "    </tr>\n",
              "    <tr>\n",
              "      <th>...</th>\n",
              "      <td>...</td>\n",
              "    </tr>\n",
              "    <tr>\n",
              "      <th>120.0</th>\n",
              "      <td>8.566667</td>\n",
              "    </tr>\n",
              "    <tr>\n",
              "      <th>126.0</th>\n",
              "      <td>8.900000</td>\n",
              "    </tr>\n",
              "    <tr>\n",
              "      <th>130.0</th>\n",
              "      <td>9.000000</td>\n",
              "    </tr>\n",
              "    <tr>\n",
              "      <th>135.0</th>\n",
              "      <td>5.900000</td>\n",
              "    </tr>\n",
              "    <tr>\n",
              "      <th>138.0</th>\n",
              "      <td>8.200000</td>\n",
              "    </tr>\n",
              "  </tbody>\n",
              "</table>\n",
              "<p>107 rows × 1 columns</p>\n",
              "</div>"
            ],
            "text/plain": [
              "            ABV\n",
              "IBUs           \n",
              "4.0    5.600000\n",
              "5.0    5.400000\n",
              "6.0    4.933333\n",
              "7.0    4.828571\n",
              "8.0    4.622222\n",
              "...         ...\n",
              "120.0  8.566667\n",
              "126.0  8.900000\n",
              "130.0  9.000000\n",
              "135.0  5.900000\n",
              "138.0  8.200000\n",
              "\n",
              "[107 rows x 1 columns]"
            ]
          },
          "metadata": {
            "tags": []
          },
          "execution_count": 28
        }
      ]
    },
    {
      "cell_type": "code",
      "metadata": {
        "id": "yf3hil1MwEqG",
        "colab_type": "code",
        "outputId": "caede003-cf3e-4b5f-fe93-706cebe39e9b",
        "colab": {
          "base_uri": "https://localhost:8080/",
          "height": 228
        }
      },
      "source": [
        "df1['IBUs'].value_counts()"
      ],
      "execution_count": 29,
      "outputs": [
        {
          "output_type": "execute_result",
          "data": {
            "text/plain": [
              "20.0     82\n",
              "35.0     60\n",
              "65.0     54\n",
              "30.0     53\n",
              "70.0     48\n",
              "         ..\n",
              "138.0     1\n",
              "130.0     1\n",
              "97.0      1\n",
              "108.0     1\n",
              "135.0     1\n",
              "Name: IBUs, Length: 107, dtype: int64"
            ]
          },
          "metadata": {
            "tags": []
          },
          "execution_count": 29
        }
      ]
    },
    {
      "cell_type": "code",
      "metadata": {
        "id": "YK26sKXYh14S",
        "colab_type": "code",
        "outputId": "24015f90-c749-44dd-f3c1-6fdcbc6c77bd",
        "colab": {
          "base_uri": "https://localhost:8080/",
          "height": 34
        }
      },
      "source": [
        "df1['IBUs'].mean()"
      ],
      "execution_count": 30,
      "outputs": [
        {
          "output_type": "execute_result",
          "data": {
            "text/plain": [
              "42.71316725978647"
            ]
          },
          "metadata": {
            "tags": []
          },
          "execution_count": 30
        }
      ]
    },
    {
      "cell_type": "markdown",
      "metadata": {
        "id": "eRc7H7EOh14W",
        "colab_type": "text"
      },
      "source": [
        "## Φτάξτε ένα γράφημα διασποράς (histogram  στην python hist) για το IBU και όταν ορίσετε το ιστόγραμμα βάλτε  *30* bins αντί για το default που είναι 10"
      ]
    },
    {
      "cell_type": "code",
      "metadata": {
        "id": "OeLeyiFBsn2U",
        "colab_type": "code",
        "outputId": "9efe4ab3-fa88-49c9-dc32-84d215a86970",
        "colab": {
          "base_uri": "https://localhost:8080/",
          "height": 516
        }
      },
      "source": [
        "ax = df.hist(column='IBUs', bins=30, grid=False, figsize=(12,8), color='#86bf91', zorder=2, rwidth=0.9)\n",
        "\n",
        "ax = ax[0]\n",
        "for x in ax:\n",
        "\n",
        "    \n",
        "    x.spines['right'].set_visible(False)\n",
        "    x.spines['top'].set_visible(False)\n",
        "    x.spines['left'].set_visible(False)\n",
        "\n",
        "   \n",
        "    x.tick_params(axis=\"both\", which=\"both\", bottom=\"off\", top=\"off\", labelbottom=\"on\", left=\"off\", right=\"off\", labelleft=\"on\")\n",
        "\n",
        " \n",
        "    vals = x.get_yticks()\n",
        "    for tick in vals:\n",
        "        x.axhline(y=tick, linestyle='dashed', alpha=0.4, color='#eeeeee', zorder=1)\n",
        "\n",
        "    x.set_title(\"\")\n",
        "\n",
        "    x.set_xlabel(\"IBUs\", labelpad=20, weight='bold', size=12)"
      ],
      "execution_count": 31,
      "outputs": [
        {
          "output_type": "display_data",
          "data": {
            "image/png": "[encoded data removed]",
            "text/plain": [
              "<Figure size 864x576 with 1 Axes>"
            ]
          },
          "metadata": {
            "tags": [],
            "needs_background": "light"
          }
        }
      ]
    },
    {
      "cell_type": "code",
      "metadata": {
        "id": "tGAS4FqqBEpb",
        "colab_type": "code",
        "outputId": "83b82b37-c3cb-49c7-ec42-cc11cc1e26e8",
        "colab": {
          "base_uri": "https://localhost:8080/",
          "height": 296
        }
      },
      "source": [
        "sns.distplot(df1['IBUs'], kde=False, color='red', bins=30) #με seaborn"
      ],
      "execution_count": 32,
      "outputs": [
        {
          "output_type": "execute_result",
          "data": {
            "text/plain": [
              "<matplotlib.axes._subplots.AxesSubplot at 0x7f6c4a3b7898>"
            ]
          },
          "metadata": {
            "tags": []
          },
          "execution_count": 32
        },
        {
          "output_type": "display_data",
          "data": {
            "image/png": "[encoded data removed]",
            "text/plain": [
              "<Figure size 432x288 with 1 Axes>"
            ]
          },
          "metadata": {
            "tags": [],
            "needs_background": "light"
          }
        }
      ]
    },
    {
      "cell_type": "markdown",
      "metadata": {
        "id": "IFNTl6GSh14a",
        "colab_type": "text"
      },
      "source": [
        "## Βρείτε όλες τις μπύρες που το IBU βρίσκεται στο 75ο εκατοστημόριο. "
      ]
    },
    {
      "cell_type": "markdown",
      "metadata": {
        "id": "hDP1kO8oh14b",
        "colab_type": "text"
      },
      "source": [
        "**βοήθεια**: κάντε describe για να βρείτε το νούμερο"
      ]
    },
    {
      "cell_type": "code",
      "metadata": {
        "id": "1w4eDvVoh14b",
        "colab_type": "code",
        "outputId": "560b0bec-4f3d-495b-82ee-554963c31327",
        "colab": {
          "base_uri": "https://localhost:8080/",
          "height": 175
        }
      },
      "source": [
        "df1[\"IBUs\"].describe().astype(int)"
      ],
      "execution_count": 33,
      "outputs": [
        {
          "output_type": "execute_result",
          "data": {
            "text/plain": [
              "count    1405\n",
              "mean       42\n",
              "std        25\n",
              "min         4\n",
              "25%        21\n",
              "50%        35\n",
              "75%        64\n",
              "max       138\n",
              "Name: IBUs, dtype: int64"
            ]
          },
          "metadata": {
            "tags": []
          },
          "execution_count": 33
        }
      ]
    },
    {
      "cell_type": "code",
      "metadata": {
        "id": "ba1Y8ixG0TZI",
        "colab_type": "code",
        "outputId": "1e33c261-4b62-44f7-a12c-f2dc135bfeff",
        "colab": {
          "base_uri": "https://localhost:8080/",
          "height": 228
        }
      },
      "source": [
        "df1['IBUs'] == 64"
      ],
      "execution_count": 34,
      "outputs": [
        {
          "output_type": "execute_result",
          "data": {
            "text/plain": [
              "0       False\n",
              "1       False\n",
              "2       False\n",
              "3       False\n",
              "4       False\n",
              "        ...  \n",
              "2411    False\n",
              "2412    False\n",
              "2413    False\n",
              "2414    False\n",
              "2415    False\n",
              "Name: IBUs, Length: 2416, dtype: bool"
            ]
          },
          "metadata": {
            "tags": []
          },
          "execution_count": 34
        }
      ]
    },
    {
      "cell_type": "markdown",
      "metadata": {
        "id": "jvdGXDxAh14f",
        "colab_type": "text"
      },
      "source": [
        "## Βρείτε όλες τις μπύρες που το IBU βρίσκεται κάτω από το 25ο εκατοστημόριο."
      ]
    },
    {
      "cell_type": "code",
      "metadata": {
        "id": "aqzw93Orh14f",
        "colab_type": "code",
        "outputId": "9c31ba7a-640f-4520-bccf-3829c1e48ceb",
        "colab": {
          "base_uri": "https://localhost:8080/",
          "height": 228
        }
      },
      "source": [
        "df1['IBUs'] == 21"
      ],
      "execution_count": 35,
      "outputs": [
        {
          "output_type": "execute_result",
          "data": {
            "text/plain": [
              "0       False\n",
              "1       False\n",
              "2       False\n",
              "3       False\n",
              "4       False\n",
              "        ...  \n",
              "2411    False\n",
              "2412    False\n",
              "2413    False\n",
              "2414    False\n",
              "2415    False\n",
              "Name: IBUs, Length: 2416, dtype: bool"
            ]
          },
          "metadata": {
            "tags": []
          },
          "execution_count": 35
        }
      ]
    },
    {
      "cell_type": "markdown",
      "metadata": {
        "id": "uxcCxFr3h14i",
        "colab_type": "text"
      },
      "source": [
        "## Βρείτε τη διάμεσο (median) του IBU για κάθε είδος μπύρας. Στην συνέχεια φτιάξτε ένα γράφημα γιαυτό. \n",
        "\n",
        "Βάλτε τα μεγάλα στο επάνω μέρος, και τα nan στο τέλος. Για να είναι όμορφο το γράφημα δεν πρέπει να εμφανίζονται το ένα πάνω στο άλλο γιαυτό μεγαλώστε το μέγεθός του με το figsize=(2,15)"
      ]
    },
    {
      "cell_type": "code",
      "metadata": {
        "id": "GYPxMzAHH-Nb",
        "colab_type": "code",
        "outputId": "1361b4ae-09f9-4859-a9f2-a5da268ee664",
        "colab": {
          "base_uri": "https://localhost:8080/",
          "height": 440
        }
      },
      "source": [
        "df1.groupby('Beer').mean()"
      ],
      "execution_count": 37,
      "outputs": [
        {
          "output_type": "execute_result",
          "data": {
            "text/html": [
              "<div>\n",
              "<style scoped>\n",
              "    .dataframe tbody tr th:only-of-type {\n",
              "        vertical-align: middle;\n",
              "    }\n",
              "\n",
              "    .dataframe tbody tr th {\n",
              "        vertical-align: top;\n",
              "    }\n",
              "\n",
              "    .dataframe thead th {\n",
              "        text-align: right;\n",
              "    }\n",
              "</style>\n",
              "<table border=\"1\" class=\"dataframe\">\n",
              "  <thead>\n",
              "    <tr style=\"text-align: right;\">\n",
              "      <th></th>\n",
              "      <th>ABV</th>\n",
              "      <th>IBUs</th>\n",
              "    </tr>\n",
              "    <tr>\n",
              "      <th>Beer</th>\n",
              "      <th></th>\n",
              "      <th></th>\n",
              "    </tr>\n",
              "  </thead>\n",
              "  <tbody>\n",
              "    <tr>\n",
              "      <th>#001 Golden Amber Lager</th>\n",
              "      <td>5.5</td>\n",
              "      <td>NaN</td>\n",
              "    </tr>\n",
              "    <tr>\n",
              "      <th>#002 American I.P.A.</th>\n",
              "      <td>7.1</td>\n",
              "      <td>60.0</td>\n",
              "    </tr>\n",
              "    <tr>\n",
              "      <th>#003 Brown &amp; Robust Porter</th>\n",
              "      <td>5.2</td>\n",
              "      <td>NaN</td>\n",
              "    </tr>\n",
              "    <tr>\n",
              "      <th>#004 Session I.P.A.</th>\n",
              "      <td>4.8</td>\n",
              "      <td>38.0</td>\n",
              "    </tr>\n",
              "    <tr>\n",
              "      <th>#9</th>\n",
              "      <td>5.1</td>\n",
              "      <td>20.0</td>\n",
              "    </tr>\n",
              "    <tr>\n",
              "      <th>...</th>\n",
              "      <td>...</td>\n",
              "      <td>...</td>\n",
              "    </tr>\n",
              "    <tr>\n",
              "      <th>Zen</th>\n",
              "      <td>4.3</td>\n",
              "      <td>45.0</td>\n",
              "    </tr>\n",
              "    <tr>\n",
              "      <th>Zombie Monkie</th>\n",
              "      <td>6.2</td>\n",
              "      <td>35.0</td>\n",
              "    </tr>\n",
              "    <tr>\n",
              "      <th>Zonker Stout</th>\n",
              "      <td>5.4</td>\n",
              "      <td>36.0</td>\n",
              "    </tr>\n",
              "    <tr>\n",
              "      <th>oSKAr the G'Rauch</th>\n",
              "      <td>8.5</td>\n",
              "      <td>NaN</td>\n",
              "    </tr>\n",
              "    <tr>\n",
              "      <th>the Kimmie, the Yink and the Holy Gose</th>\n",
              "      <td>4.8</td>\n",
              "      <td>NaN</td>\n",
              "    </tr>\n",
              "  </tbody>\n",
              "</table>\n",
              "<p>2306 rows × 2 columns</p>\n",
              "</div>"
            ],
            "text/plain": [
              "                                        ABV  IBUs\n",
              "Beer                                             \n",
              "#001 Golden Amber Lager                 5.5   NaN\n",
              "#002 American I.P.A.                    7.1  60.0\n",
              "#003 Brown & Robust Porter              5.2   NaN\n",
              "#004 Session I.P.A.                     4.8  38.0\n",
              "#9                                      5.1  20.0\n",
              "...                                     ...   ...\n",
              "Zen                                     4.3  45.0\n",
              "Zombie Monkie                           6.2  35.0\n",
              "Zonker Stout                            5.4  36.0\n",
              "oSKAr the G'Rauch                       8.5   NaN\n",
              "the Kimmie, the Yink and the Holy Gose  4.8   NaN\n",
              "\n",
              "[2306 rows x 2 columns]"
            ]
          },
          "metadata": {
            "tags": []
          },
          "execution_count": 37
        }
      ]
    },
    {
      "cell_type": "code",
      "metadata": {
        "id": "Sw5Mrt3Hh14j",
        "colab_type": "code",
        "outputId": "fd3674c4-5719-4403-b1e8-cbbfd42b1383",
        "colab": {
          "base_uri": "https://localhost:8080/",
          "height": 34
        }
      },
      "source": [
        "df1[\"IBUs\"].median(axis = 0)\n"
      ],
      "execution_count": 0,
      "outputs": [
        {
          "output_type": "execute_result",
          "data": {
            "text/plain": [
              "35.0"
            ]
          },
          "metadata": {
            "tags": []
          },
          "execution_count": 53
        }
      ]
    },
    {
      "cell_type": "markdown",
      "metadata": {
        "id": "oy7GuYumh14m",
        "colab_type": "text"
      },
      "source": [
        "## Βλέπουμε ότι υπάρχουν πολλά είδη μπύρας, ποια είναι όμως τα 5 δημοφιλέστερα χαμηλά σε πικράδα και ποια τα υψηλά (high-IBU vs. low-IBU)?\n",
        "\n",
        "Πρώτα βρείτε ποια έχουν high IBU, μετά βρείτε τα δημοφιλέστερα από αυτά και μετά πάρτε τα πρώτα 5. "
      ]
    },
    {
      "cell_type": "code",
      "metadata": {
        "id": "pAP_xZGJh14m",
        "colab_type": "code",
        "outputId": "de8bc643-3247-4366-8a5d-0b6b1f1f6d3b",
        "colab": {
          "base_uri": "https://localhost:8080/",
          "height": 410
        }
      },
      "source": [
        "df1[['Beer', 'IBUs']]"
      ],
      "execution_count": 38,
      "outputs": [
        {
          "output_type": "execute_result",
          "data": {
            "text/html": [
              "<div>\n",
              "<style scoped>\n",
              "    .dataframe tbody tr th:only-of-type {\n",
              "        vertical-align: middle;\n",
              "    }\n",
              "\n",
              "    .dataframe tbody tr th {\n",
              "        vertical-align: top;\n",
              "    }\n",
              "\n",
              "    .dataframe thead th {\n",
              "        text-align: right;\n",
              "    }\n",
              "</style>\n",
              "<table border=\"1\" class=\"dataframe\">\n",
              "  <thead>\n",
              "    <tr style=\"text-align: right;\">\n",
              "      <th></th>\n",
              "      <th>Beer</th>\n",
              "      <th>IBUs</th>\n",
              "    </tr>\n",
              "  </thead>\n",
              "  <tbody>\n",
              "    <tr>\n",
              "      <th>0</th>\n",
              "      <td>Get Together</td>\n",
              "      <td>50.0</td>\n",
              "    </tr>\n",
              "    <tr>\n",
              "      <th>1</th>\n",
              "      <td>Maggie's Leap</td>\n",
              "      <td>26.0</td>\n",
              "    </tr>\n",
              "    <tr>\n",
              "      <th>2</th>\n",
              "      <td>Wall's End</td>\n",
              "      <td>19.0</td>\n",
              "    </tr>\n",
              "    <tr>\n",
              "      <th>3</th>\n",
              "      <td>Pumpion</td>\n",
              "      <td>38.0</td>\n",
              "    </tr>\n",
              "    <tr>\n",
              "      <th>4</th>\n",
              "      <td>Stronghold</td>\n",
              "      <td>25.0</td>\n",
              "    </tr>\n",
              "    <tr>\n",
              "      <th>...</th>\n",
              "      <td>...</td>\n",
              "      <td>...</td>\n",
              "    </tr>\n",
              "    <tr>\n",
              "      <th>2411</th>\n",
              "      <td>Mama's Little Yella Pils</td>\n",
              "      <td>35.0</td>\n",
              "    </tr>\n",
              "    <tr>\n",
              "      <th>2412</th>\n",
              "      <td>GUBNA Imperial IPA</td>\n",
              "      <td>100.0</td>\n",
              "    </tr>\n",
              "    <tr>\n",
              "      <th>2413</th>\n",
              "      <td>Old Chub</td>\n",
              "      <td>35.0</td>\n",
              "    </tr>\n",
              "    <tr>\n",
              "      <th>2414</th>\n",
              "      <td>Gordon Ale (2009)</td>\n",
              "      <td>85.0</td>\n",
              "    </tr>\n",
              "    <tr>\n",
              "      <th>2415</th>\n",
              "      <td>Dale's Pale Ale</td>\n",
              "      <td>65.0</td>\n",
              "    </tr>\n",
              "  </tbody>\n",
              "</table>\n",
              "<p>2416 rows × 2 columns</p>\n",
              "</div>"
            ],
            "text/plain": [
              "                          Beer   IBUs\n",
              "0                 Get Together   50.0\n",
              "1                Maggie's Leap   26.0\n",
              "2                   Wall's End   19.0\n",
              "3                      Pumpion   38.0\n",
              "4                   Stronghold   25.0\n",
              "...                        ...    ...\n",
              "2411  Mama's Little Yella Pils   35.0\n",
              "2412        GUBNA Imperial IPA  100.0\n",
              "2413                  Old Chub   35.0\n",
              "2414         Gordon Ale (2009)   85.0\n",
              "2415           Dale's Pale Ale   65.0\n",
              "\n",
              "[2416 rows x 2 columns]"
            ]
          },
          "metadata": {
            "tags": []
          },
          "execution_count": 38
        }
      ]
    },
    {
      "cell_type": "code",
      "metadata": {
        "id": "ZMtJKKZ_1Ld5",
        "colab_type": "code",
        "outputId": "8e67d100-659a-4128-fe58-b43ceb9316fc",
        "colab": {
          "base_uri": "https://localhost:8080/",
          "height": 78
        }
      },
      "source": [
        "df1[df1['IBUs']==df1['IBUs'].max()]"
      ],
      "execution_count": 39,
      "outputs": [
        {
          "output_type": "execute_result",
          "data": {
            "text/html": [
              "<div>\n",
              "<style scoped>\n",
              "    .dataframe tbody tr th:only-of-type {\n",
              "        vertical-align: middle;\n",
              "    }\n",
              "\n",
              "    .dataframe tbody tr th {\n",
              "        vertical-align: top;\n",
              "    }\n",
              "\n",
              "    .dataframe thead th {\n",
              "        text-align: right;\n",
              "    }\n",
              "</style>\n",
              "<table border=\"1\" class=\"dataframe\">\n",
              "  <thead>\n",
              "    <tr style=\"text-align: right;\">\n",
              "      <th></th>\n",
              "      <th>Beer</th>\n",
              "      <th>Brewery</th>\n",
              "      <th>Location</th>\n",
              "      <th>Style</th>\n",
              "      <th>Size</th>\n",
              "      <th>ABV</th>\n",
              "      <th>IBUs</th>\n",
              "    </tr>\n",
              "  </thead>\n",
              "  <tbody>\n",
              "    <tr>\n",
              "      <th>1662</th>\n",
              "      <td>Bitter Bitch Imperial IPA</td>\n",
              "      <td>Astoria Brewing Company</td>\n",
              "      <td>Astoria, OR</td>\n",
              "      <td>American Double / Imperial IPA</td>\n",
              "      <td>12 oz.</td>\n",
              "      <td>8.2</td>\n",
              "      <td>138.0</td>\n",
              "    </tr>\n",
              "  </tbody>\n",
              "</table>\n",
              "</div>"
            ],
            "text/plain": [
              "                           Beer                  Brewery  ...  ABV   IBUs\n",
              "1662  Bitter Bitch Imperial IPA  Astoria Brewing Company  ...  8.2  138.0\n",
              "\n",
              "[1 rows x 7 columns]"
            ]
          },
          "metadata": {
            "tags": []
          },
          "execution_count": 39
        }
      ]
    },
    {
      "cell_type": "code",
      "metadata": {
        "id": "ml5jL7zz3AhB",
        "colab_type": "code",
        "outputId": "d884c64c-db78-489c-9abc-dea0f0ce8063",
        "colab": {
          "base_uri": "https://localhost:8080/",
          "height": 139
        }
      },
      "source": [
        "df1[df1['IBUs']==df1['IBUs'].min()]"
      ],
      "execution_count": 40,
      "outputs": [
        {
          "output_type": "execute_result",
          "data": {
            "text/html": [
              "<div>\n",
              "<style scoped>\n",
              "    .dataframe tbody tr th:only-of-type {\n",
              "        vertical-align: middle;\n",
              "    }\n",
              "\n",
              "    .dataframe tbody tr th {\n",
              "        vertical-align: top;\n",
              "    }\n",
              "\n",
              "    .dataframe thead th {\n",
              "        text-align: right;\n",
              "    }\n",
              "</style>\n",
              "<table border=\"1\" class=\"dataframe\">\n",
              "  <thead>\n",
              "    <tr style=\"text-align: right;\">\n",
              "      <th></th>\n",
              "      <th>Beer</th>\n",
              "      <th>Brewery</th>\n",
              "      <th>Location</th>\n",
              "      <th>Style</th>\n",
              "      <th>Size</th>\n",
              "      <th>ABV</th>\n",
              "      <th>IBUs</th>\n",
              "    </tr>\n",
              "  </thead>\n",
              "  <tbody>\n",
              "    <tr>\n",
              "      <th>1303</th>\n",
              "      <td>Summer Solstice</td>\n",
              "      <td>Anderson Valley Brewing Company</td>\n",
              "      <td>Boonville, CA</td>\n",
              "      <td>Cream Ale</td>\n",
              "      <td>12 oz.</td>\n",
              "      <td>5.6</td>\n",
              "      <td>4.0</td>\n",
              "    </tr>\n",
              "    <tr>\n",
              "      <th>1860</th>\n",
              "      <td>Summer Solstice Cerveza Crema (2009)</td>\n",
              "      <td>Anderson Valley Brewing Company</td>\n",
              "      <td>Boonville, CA</td>\n",
              "      <td>Cream Ale</td>\n",
              "      <td>12 oz.</td>\n",
              "      <td>5.6</td>\n",
              "      <td>4.0</td>\n",
              "    </tr>\n",
              "    <tr>\n",
              "      <th>2339</th>\n",
              "      <td>Summer Solstice (2011)</td>\n",
              "      <td>Anderson Valley Brewing Company</td>\n",
              "      <td>Boonville, CA</td>\n",
              "      <td>Cream Ale</td>\n",
              "      <td>12 oz.</td>\n",
              "      <td>5.6</td>\n",
              "      <td>4.0</td>\n",
              "    </tr>\n",
              "  </tbody>\n",
              "</table>\n",
              "</div>"
            ],
            "text/plain": [
              "                                      Beer  ... IBUs\n",
              "1303                       Summer Solstice  ...  4.0\n",
              "1860  Summer Solstice Cerveza Crema (2009)  ...  4.0\n",
              "2339                Summer Solstice (2011)  ...  4.0\n",
              "\n",
              "[3 rows x 7 columns]"
            ]
          },
          "metadata": {
            "tags": []
          },
          "execution_count": 40
        }
      ]
    },
    {
      "cell_type": "code",
      "metadata": {
        "id": "8zmwgUOC5FTl",
        "colab_type": "code",
        "outputId": "871ede02-c396-46ef-993b-2679eea00da2",
        "colab": {
          "base_uri": "https://localhost:8080/",
          "height": 410
        }
      },
      "source": [
        "df2 = df1[df1['IBUs'].notna()]\n",
        "df2"
      ],
      "execution_count": 41,
      "outputs": [
        {
          "output_type": "execute_result",
          "data": {
            "text/html": [
              "<div>\n",
              "<style scoped>\n",
              "    .dataframe tbody tr th:only-of-type {\n",
              "        vertical-align: middle;\n",
              "    }\n",
              "\n",
              "    .dataframe tbody tr th {\n",
              "        vertical-align: top;\n",
              "    }\n",
              "\n",
              "    .dataframe thead th {\n",
              "        text-align: right;\n",
              "    }\n",
              "</style>\n",
              "<table border=\"1\" class=\"dataframe\">\n",
              "  <thead>\n",
              "    <tr style=\"text-align: right;\">\n",
              "      <th></th>\n",
              "      <th>Beer</th>\n",
              "      <th>Brewery</th>\n",
              "      <th>Location</th>\n",
              "      <th>Style</th>\n",
              "      <th>Size</th>\n",
              "      <th>ABV</th>\n",
              "      <th>IBUs</th>\n",
              "    </tr>\n",
              "  </thead>\n",
              "  <tbody>\n",
              "    <tr>\n",
              "      <th>0</th>\n",
              "      <td>Get Together</td>\n",
              "      <td>NorthGate Brewing</td>\n",
              "      <td>Minneapolis, MN</td>\n",
              "      <td>American IPA</td>\n",
              "      <td>16 oz.</td>\n",
              "      <td>4.5</td>\n",
              "      <td>50.0</td>\n",
              "    </tr>\n",
              "    <tr>\n",
              "      <th>1</th>\n",
              "      <td>Maggie's Leap</td>\n",
              "      <td>NorthGate Brewing</td>\n",
              "      <td>Minneapolis, MN</td>\n",
              "      <td>Milk / Sweet Stout</td>\n",
              "      <td>16 oz.</td>\n",
              "      <td>4.9</td>\n",
              "      <td>26.0</td>\n",
              "    </tr>\n",
              "    <tr>\n",
              "      <th>2</th>\n",
              "      <td>Wall's End</td>\n",
              "      <td>NorthGate Brewing</td>\n",
              "      <td>Minneapolis, MN</td>\n",
              "      <td>English Brown Ale</td>\n",
              "      <td>16 oz.</td>\n",
              "      <td>4.8</td>\n",
              "      <td>19.0</td>\n",
              "    </tr>\n",
              "    <tr>\n",
              "      <th>3</th>\n",
              "      <td>Pumpion</td>\n",
              "      <td>NorthGate Brewing</td>\n",
              "      <td>Minneapolis, MN</td>\n",
              "      <td>Pumpkin Ale</td>\n",
              "      <td>16 oz.</td>\n",
              "      <td>6.0</td>\n",
              "      <td>38.0</td>\n",
              "    </tr>\n",
              "    <tr>\n",
              "      <th>4</th>\n",
              "      <td>Stronghold</td>\n",
              "      <td>NorthGate Brewing</td>\n",
              "      <td>Minneapolis, MN</td>\n",
              "      <td>American Porter</td>\n",
              "      <td>16 oz.</td>\n",
              "      <td>6.0</td>\n",
              "      <td>25.0</td>\n",
              "    </tr>\n",
              "    <tr>\n",
              "      <th>...</th>\n",
              "      <td>...</td>\n",
              "      <td>...</td>\n",
              "      <td>...</td>\n",
              "      <td>...</td>\n",
              "      <td>...</td>\n",
              "      <td>...</td>\n",
              "      <td>...</td>\n",
              "    </tr>\n",
              "    <tr>\n",
              "      <th>2411</th>\n",
              "      <td>Mama's Little Yella Pils</td>\n",
              "      <td>Oskar Blues Brewery</td>\n",
              "      <td>Longmont, CO</td>\n",
              "      <td>Czech Pilsener</td>\n",
              "      <td>12 oz.</td>\n",
              "      <td>5.3</td>\n",
              "      <td>35.0</td>\n",
              "    </tr>\n",
              "    <tr>\n",
              "      <th>2412</th>\n",
              "      <td>GUBNA Imperial IPA</td>\n",
              "      <td>Oskar Blues Brewery</td>\n",
              "      <td>Longmont, CO</td>\n",
              "      <td>American Double / Imperial IPA</td>\n",
              "      <td>12 oz.</td>\n",
              "      <td>9.9</td>\n",
              "      <td>100.0</td>\n",
              "    </tr>\n",
              "    <tr>\n",
              "      <th>2413</th>\n",
              "      <td>Old Chub</td>\n",
              "      <td>Oskar Blues Brewery</td>\n",
              "      <td>Longmont, CO</td>\n",
              "      <td>Scottish Ale</td>\n",
              "      <td>12 oz.</td>\n",
              "      <td>8.0</td>\n",
              "      <td>35.0</td>\n",
              "    </tr>\n",
              "    <tr>\n",
              "      <th>2414</th>\n",
              "      <td>Gordon Ale (2009)</td>\n",
              "      <td>Oskar Blues Brewery</td>\n",
              "      <td>Longmont, CO</td>\n",
              "      <td>American Double / Imperial IPA</td>\n",
              "      <td>12 oz.</td>\n",
              "      <td>8.7</td>\n",
              "      <td>85.0</td>\n",
              "    </tr>\n",
              "    <tr>\n",
              "      <th>2415</th>\n",
              "      <td>Dale's Pale Ale</td>\n",
              "      <td>Oskar Blues Brewery</td>\n",
              "      <td>Longmont, CO</td>\n",
              "      <td>American Pale Ale (APA)</td>\n",
              "      <td>12 oz.</td>\n",
              "      <td>6.5</td>\n",
              "      <td>65.0</td>\n",
              "    </tr>\n",
              "  </tbody>\n",
              "</table>\n",
              "<p>1405 rows × 7 columns</p>\n",
              "</div>"
            ],
            "text/plain": [
              "                          Beer              Brewery  ...  ABV   IBUs\n",
              "0                 Get Together    NorthGate Brewing  ...  4.5   50.0\n",
              "1                Maggie's Leap    NorthGate Brewing  ...  4.9   26.0\n",
              "2                   Wall's End    NorthGate Brewing  ...  4.8   19.0\n",
              "3                      Pumpion    NorthGate Brewing  ...  6.0   38.0\n",
              "4                   Stronghold    NorthGate Brewing  ...  6.0   25.0\n",
              "...                        ...                  ...  ...  ...    ...\n",
              "2411  Mama's Little Yella Pils  Oskar Blues Brewery  ...  5.3   35.0\n",
              "2412        GUBNA Imperial IPA  Oskar Blues Brewery  ...  9.9  100.0\n",
              "2413                  Old Chub  Oskar Blues Brewery  ...  8.0   35.0\n",
              "2414         Gordon Ale (2009)  Oskar Blues Brewery  ...  8.7   85.0\n",
              "2415           Dale's Pale Ale  Oskar Blues Brewery  ...  6.5   65.0\n",
              "\n",
              "[1405 rows x 7 columns]"
            ]
          },
          "metadata": {
            "tags": []
          },
          "execution_count": 41
        }
      ]
    },
    {
      "cell_type": "code",
      "metadata": {
        "id": "RffWD-2T39mb",
        "colab_type": "code",
        "outputId": "c467dcf4-2fac-4911-d7b1-da5a6b3051ad",
        "colab": {
          "base_uri": "https://localhost:8080/",
          "height": 410
        }
      },
      "source": [
        "df3 = df2.sort_values(by=['IBUs'])\n",
        "df3"
      ],
      "execution_count": 42,
      "outputs": [
        {
          "output_type": "execute_result",
          "data": {
            "text/html": [
              "<div>\n",
              "<style scoped>\n",
              "    .dataframe tbody tr th:only-of-type {\n",
              "        vertical-align: middle;\n",
              "    }\n",
              "\n",
              "    .dataframe tbody tr th {\n",
              "        vertical-align: top;\n",
              "    }\n",
              "\n",
              "    .dataframe thead th {\n",
              "        text-align: right;\n",
              "    }\n",
              "</style>\n",
              "<table border=\"1\" class=\"dataframe\">\n",
              "  <thead>\n",
              "    <tr style=\"text-align: right;\">\n",
              "      <th></th>\n",
              "      <th>Beer</th>\n",
              "      <th>Brewery</th>\n",
              "      <th>Location</th>\n",
              "      <th>Style</th>\n",
              "      <th>Size</th>\n",
              "      <th>ABV</th>\n",
              "      <th>IBUs</th>\n",
              "    </tr>\n",
              "  </thead>\n",
              "  <tbody>\n",
              "    <tr>\n",
              "      <th>2339</th>\n",
              "      <td>Summer Solstice (2011)</td>\n",
              "      <td>Anderson Valley Brewing Company</td>\n",
              "      <td>Boonville, CA</td>\n",
              "      <td>Cream Ale</td>\n",
              "      <td>12 oz.</td>\n",
              "      <td>5.6</td>\n",
              "      <td>4.0</td>\n",
              "    </tr>\n",
              "    <tr>\n",
              "      <th>1860</th>\n",
              "      <td>Summer Solstice Cerveza Crema (2009)</td>\n",
              "      <td>Anderson Valley Brewing Company</td>\n",
              "      <td>Boonville, CA</td>\n",
              "      <td>Cream Ale</td>\n",
              "      <td>12 oz.</td>\n",
              "      <td>5.6</td>\n",
              "      <td>4.0</td>\n",
              "    </tr>\n",
              "    <tr>\n",
              "      <th>1303</th>\n",
              "      <td>Summer Solstice</td>\n",
              "      <td>Anderson Valley Brewing Company</td>\n",
              "      <td>Boonville, CA</td>\n",
              "      <td>Cream Ale</td>\n",
              "      <td>12 oz.</td>\n",
              "      <td>5.6</td>\n",
              "      <td>4.0</td>\n",
              "    </tr>\n",
              "    <tr>\n",
              "      <th>1340</th>\n",
              "      <td>Westbrook Gose</td>\n",
              "      <td>Westbrook Brewing Company</td>\n",
              "      <td>Mt. Pleasant, SC</td>\n",
              "      <td>Gose</td>\n",
              "      <td>12 oz.</td>\n",
              "      <td>4.0</td>\n",
              "      <td>5.0</td>\n",
              "    </tr>\n",
              "    <tr>\n",
              "      <th>169</th>\n",
              "      <td>Yo Soy Un Berliner</td>\n",
              "      <td>Freetail Brewing Company</td>\n",
              "      <td>San Antonio, TX</td>\n",
              "      <td>Berliner Weissbier</td>\n",
              "      <td>12 oz.</td>\n",
              "      <td>4.4</td>\n",
              "      <td>5.0</td>\n",
              "    </tr>\n",
              "    <tr>\n",
              "      <th>...</th>\n",
              "      <td>...</td>\n",
              "      <td>...</td>\n",
              "      <td>...</td>\n",
              "      <td>...</td>\n",
              "      <td>...</td>\n",
              "      <td>...</td>\n",
              "      <td>...</td>\n",
              "    </tr>\n",
              "    <tr>\n",
              "      <th>2182</th>\n",
              "      <td>Heady Topper</td>\n",
              "      <td>The Alchemist</td>\n",
              "      <td>Waterbury, VT</td>\n",
              "      <td>American Double / Imperial IPA</td>\n",
              "      <td>16 oz.</td>\n",
              "      <td>8.0</td>\n",
              "      <td>120.0</td>\n",
              "    </tr>\n",
              "    <tr>\n",
              "      <th>249</th>\n",
              "      <td>Bay of Bengal Double IPA (2014)</td>\n",
              "      <td>Christian Moerlein Brewing Company</td>\n",
              "      <td>Cincinnati, OH</td>\n",
              "      <td>American Double / Imperial IPA</td>\n",
              "      <td>12 oz.</td>\n",
              "      <td>8.9</td>\n",
              "      <td>126.0</td>\n",
              "    </tr>\n",
              "    <tr>\n",
              "      <th>611</th>\n",
              "      <td>Dead-Eye DIPA</td>\n",
              "      <td>Cape Ann Brewing Company</td>\n",
              "      <td>Gloucester, MA</td>\n",
              "      <td>American Double / Imperial IPA</td>\n",
              "      <td>16 oz.</td>\n",
              "      <td>9.0</td>\n",
              "      <td>130.0</td>\n",
              "    </tr>\n",
              "    <tr>\n",
              "      <th>989</th>\n",
              "      <td>Troopers Alley IPA</td>\n",
              "      <td>Wolf Hills Brewing Company</td>\n",
              "      <td>Abingdon, VA</td>\n",
              "      <td>American IPA</td>\n",
              "      <td>12 oz.</td>\n",
              "      <td>5.9</td>\n",
              "      <td>135.0</td>\n",
              "    </tr>\n",
              "    <tr>\n",
              "      <th>1662</th>\n",
              "      <td>Bitter Bitch Imperial IPA</td>\n",
              "      <td>Astoria Brewing Company</td>\n",
              "      <td>Astoria, OR</td>\n",
              "      <td>American Double / Imperial IPA</td>\n",
              "      <td>12 oz.</td>\n",
              "      <td>8.2</td>\n",
              "      <td>138.0</td>\n",
              "    </tr>\n",
              "  </tbody>\n",
              "</table>\n",
              "<p>1405 rows × 7 columns</p>\n",
              "</div>"
            ],
            "text/plain": [
              "                                      Beer  ...   IBUs\n",
              "2339                Summer Solstice (2011)  ...    4.0\n",
              "1860  Summer Solstice Cerveza Crema (2009)  ...    4.0\n",
              "1303                       Summer Solstice  ...    4.0\n",
              "1340                        Westbrook Gose  ...    5.0\n",
              "169                     Yo Soy Un Berliner  ...    5.0\n",
              "...                                    ...  ...    ...\n",
              "2182                          Heady Topper  ...  120.0\n",
              "249        Bay of Bengal Double IPA (2014)  ...  126.0\n",
              "611                          Dead-Eye DIPA  ...  130.0\n",
              "989                     Troopers Alley IPA  ...  135.0\n",
              "1662             Bitter Bitch Imperial IPA  ...  138.0\n",
              "\n",
              "[1405 rows x 7 columns]"
            ]
          },
          "metadata": {
            "tags": []
          },
          "execution_count": 42
        }
      ]
    },
    {
      "cell_type": "code",
      "metadata": {
        "id": "-5LEOs9T4G5r",
        "colab_type": "code",
        "outputId": "76f386f8-339f-4d45-bce9-0fe4eb09073e",
        "colab": {
          "base_uri": "https://localhost:8080/",
          "height": 199
        }
      },
      "source": [
        "df3.head(5)"
      ],
      "execution_count": 43,
      "outputs": [
        {
          "output_type": "execute_result",
          "data": {
            "text/html": [
              "<div>\n",
              "<style scoped>\n",
              "    .dataframe tbody tr th:only-of-type {\n",
              "        vertical-align: middle;\n",
              "    }\n",
              "\n",
              "    .dataframe tbody tr th {\n",
              "        vertical-align: top;\n",
              "    }\n",
              "\n",
              "    .dataframe thead th {\n",
              "        text-align: right;\n",
              "    }\n",
              "</style>\n",
              "<table border=\"1\" class=\"dataframe\">\n",
              "  <thead>\n",
              "    <tr style=\"text-align: right;\">\n",
              "      <th></th>\n",
              "      <th>Beer</th>\n",
              "      <th>Brewery</th>\n",
              "      <th>Location</th>\n",
              "      <th>Style</th>\n",
              "      <th>Size</th>\n",
              "      <th>ABV</th>\n",
              "      <th>IBUs</th>\n",
              "    </tr>\n",
              "  </thead>\n",
              "  <tbody>\n",
              "    <tr>\n",
              "      <th>2339</th>\n",
              "      <td>Summer Solstice (2011)</td>\n",
              "      <td>Anderson Valley Brewing Company</td>\n",
              "      <td>Boonville, CA</td>\n",
              "      <td>Cream Ale</td>\n",
              "      <td>12 oz.</td>\n",
              "      <td>5.6</td>\n",
              "      <td>4.0</td>\n",
              "    </tr>\n",
              "    <tr>\n",
              "      <th>1860</th>\n",
              "      <td>Summer Solstice Cerveza Crema (2009)</td>\n",
              "      <td>Anderson Valley Brewing Company</td>\n",
              "      <td>Boonville, CA</td>\n",
              "      <td>Cream Ale</td>\n",
              "      <td>12 oz.</td>\n",
              "      <td>5.6</td>\n",
              "      <td>4.0</td>\n",
              "    </tr>\n",
              "    <tr>\n",
              "      <th>1303</th>\n",
              "      <td>Summer Solstice</td>\n",
              "      <td>Anderson Valley Brewing Company</td>\n",
              "      <td>Boonville, CA</td>\n",
              "      <td>Cream Ale</td>\n",
              "      <td>12 oz.</td>\n",
              "      <td>5.6</td>\n",
              "      <td>4.0</td>\n",
              "    </tr>\n",
              "    <tr>\n",
              "      <th>1340</th>\n",
              "      <td>Westbrook Gose</td>\n",
              "      <td>Westbrook Brewing Company</td>\n",
              "      <td>Mt. Pleasant, SC</td>\n",
              "      <td>Gose</td>\n",
              "      <td>12 oz.</td>\n",
              "      <td>4.0</td>\n",
              "      <td>5.0</td>\n",
              "    </tr>\n",
              "    <tr>\n",
              "      <th>169</th>\n",
              "      <td>Yo Soy Un Berliner</td>\n",
              "      <td>Freetail Brewing Company</td>\n",
              "      <td>San Antonio, TX</td>\n",
              "      <td>Berliner Weissbier</td>\n",
              "      <td>12 oz.</td>\n",
              "      <td>4.4</td>\n",
              "      <td>5.0</td>\n",
              "    </tr>\n",
              "  </tbody>\n",
              "</table>\n",
              "</div>"
            ],
            "text/plain": [
              "                                      Beer  ... IBUs\n",
              "2339                Summer Solstice (2011)  ...  4.0\n",
              "1860  Summer Solstice Cerveza Crema (2009)  ...  4.0\n",
              "1303                       Summer Solstice  ...  4.0\n",
              "1340                        Westbrook Gose  ...  5.0\n",
              "169                     Yo Soy Un Berliner  ...  5.0\n",
              "\n",
              "[5 rows x 7 columns]"
            ]
          },
          "metadata": {
            "tags": []
          },
          "execution_count": 43
        }
      ]
    },
    {
      "cell_type": "code",
      "metadata": {
        "id": "NVpp0QWC5kIE",
        "colab_type": "code",
        "outputId": "55876225-975b-4c87-fbaf-82b25da71a4e",
        "colab": {
          "base_uri": "https://localhost:8080/",
          "height": 199
        }
      },
      "source": [
        "df3.tail(5)"
      ],
      "execution_count": 44,
      "outputs": [
        {
          "output_type": "execute_result",
          "data": {
            "text/html": [
              "<div>\n",
              "<style scoped>\n",
              "    .dataframe tbody tr th:only-of-type {\n",
              "        vertical-align: middle;\n",
              "    }\n",
              "\n",
              "    .dataframe tbody tr th {\n",
              "        vertical-align: top;\n",
              "    }\n",
              "\n",
              "    .dataframe thead th {\n",
              "        text-align: right;\n",
              "    }\n",
              "</style>\n",
              "<table border=\"1\" class=\"dataframe\">\n",
              "  <thead>\n",
              "    <tr style=\"text-align: right;\">\n",
              "      <th></th>\n",
              "      <th>Beer</th>\n",
              "      <th>Brewery</th>\n",
              "      <th>Location</th>\n",
              "      <th>Style</th>\n",
              "      <th>Size</th>\n",
              "      <th>ABV</th>\n",
              "      <th>IBUs</th>\n",
              "    </tr>\n",
              "  </thead>\n",
              "  <tbody>\n",
              "    <tr>\n",
              "      <th>2182</th>\n",
              "      <td>Heady Topper</td>\n",
              "      <td>The Alchemist</td>\n",
              "      <td>Waterbury, VT</td>\n",
              "      <td>American Double / Imperial IPA</td>\n",
              "      <td>16 oz.</td>\n",
              "      <td>8.0</td>\n",
              "      <td>120.0</td>\n",
              "    </tr>\n",
              "    <tr>\n",
              "      <th>249</th>\n",
              "      <td>Bay of Bengal Double IPA (2014)</td>\n",
              "      <td>Christian Moerlein Brewing Company</td>\n",
              "      <td>Cincinnati, OH</td>\n",
              "      <td>American Double / Imperial IPA</td>\n",
              "      <td>12 oz.</td>\n",
              "      <td>8.9</td>\n",
              "      <td>126.0</td>\n",
              "    </tr>\n",
              "    <tr>\n",
              "      <th>611</th>\n",
              "      <td>Dead-Eye DIPA</td>\n",
              "      <td>Cape Ann Brewing Company</td>\n",
              "      <td>Gloucester, MA</td>\n",
              "      <td>American Double / Imperial IPA</td>\n",
              "      <td>16 oz.</td>\n",
              "      <td>9.0</td>\n",
              "      <td>130.0</td>\n",
              "    </tr>\n",
              "    <tr>\n",
              "      <th>989</th>\n",
              "      <td>Troopers Alley IPA</td>\n",
              "      <td>Wolf Hills Brewing Company</td>\n",
              "      <td>Abingdon, VA</td>\n",
              "      <td>American IPA</td>\n",
              "      <td>12 oz.</td>\n",
              "      <td>5.9</td>\n",
              "      <td>135.0</td>\n",
              "    </tr>\n",
              "    <tr>\n",
              "      <th>1662</th>\n",
              "      <td>Bitter Bitch Imperial IPA</td>\n",
              "      <td>Astoria Brewing Company</td>\n",
              "      <td>Astoria, OR</td>\n",
              "      <td>American Double / Imperial IPA</td>\n",
              "      <td>12 oz.</td>\n",
              "      <td>8.2</td>\n",
              "      <td>138.0</td>\n",
              "    </tr>\n",
              "  </tbody>\n",
              "</table>\n",
              "</div>"
            ],
            "text/plain": [
              "                                 Beer  ...   IBUs\n",
              "2182                     Heady Topper  ...  120.0\n",
              "249   Bay of Bengal Double IPA (2014)  ...  126.0\n",
              "611                     Dead-Eye DIPA  ...  130.0\n",
              "989                Troopers Alley IPA  ...  135.0\n",
              "1662        Bitter Bitch Imperial IPA  ...  138.0\n",
              "\n",
              "[5 rows x 7 columns]"
            ]
          },
          "metadata": {
            "tags": []
          },
          "execution_count": 44
        }
      ]
    },
    {
      "cell_type": "markdown",
      "metadata": {
        "id": "OW1uM0Tyh14v",
        "colab_type": "text"
      },
      "source": [
        "## Βρείτε τον μέσο όρο IBU για τις μπύρες \"Witbier\", \"Hefeweizen\" και \"American Pale Wheat Ale\" και μετά φτιάξτε ένα ιστόγραμμα. \n",
        "\n",
        "Θέλουμε μόνο ένα γράφημα, που να δείχνει όλα τα παραπάνω! Και δοκιμάστε ξανά στο ιστόγραμμα να έχετε 20-30 bins."
      ]
    },
    {
      "cell_type": "code",
      "metadata": {
        "id": "QCod0H3Ph14w",
        "colab_type": "code",
        "outputId": "bb181e5c-d249-43b4-8078-31ff6ec0554d",
        "colab": {
          "base_uri": "https://localhost:8080/",
          "height": 175
        }
      },
      "source": [
        "df8= df1[df1['Style'] == 'Witbier']\n",
        "df8['IBUs'].mean()\n",
        "df8['IBUs'].describe().astype(int)"
      ],
      "execution_count": 45,
      "outputs": [
        {
          "output_type": "execute_result",
          "data": {
            "text/plain": [
              "count    24\n",
              "mean     16\n",
              "std       4\n",
              "min      10\n",
              "25%      12\n",
              "50%      15\n",
              "75%      20\n",
              "max      27\n",
              "Name: IBUs, dtype: int64"
            ]
          },
          "metadata": {
            "tags": []
          },
          "execution_count": 45
        }
      ]
    },
    {
      "cell_type": "code",
      "metadata": {
        "id": "Y4aHt4MEh140",
        "colab_type": "code",
        "outputId": "469eae74-cecf-4114-ec46-1840968c8262",
        "colab": {
          "base_uri": "https://localhost:8080/",
          "height": 175
        }
      },
      "source": [
        "df5= df1[df1['Style'] == 'Hefeweizen']\n",
        "df5['IBUs'].mean()\n",
        "df5['IBUs'].describe().astype(int)"
      ],
      "execution_count": 46,
      "outputs": [
        {
          "output_type": "execute_result",
          "data": {
            "text/plain": [
              "count    27\n",
              "mean     17\n",
              "std       7\n",
              "min       8\n",
              "25%      12\n",
              "50%      15\n",
              "75%      18\n",
              "max      42\n",
              "Name: IBUs, dtype: int64"
            ]
          },
          "metadata": {
            "tags": []
          },
          "execution_count": 46
        }
      ]
    },
    {
      "cell_type": "code",
      "metadata": {
        "id": "4y1cwyea8JvH",
        "colab_type": "code",
        "outputId": "f51435d2-9ed4-4e20-fc90-56a6c6254a38",
        "colab": {
          "base_uri": "https://localhost:8080/",
          "height": 175
        }
      },
      "source": [
        "df6= df1[df1['Style'] == 'American Pale Wheat Ale']\n",
        "df6['IBUs'].mean()\n",
        "df6['IBUs'].describe().astype(int)"
      ],
      "execution_count": 47,
      "outputs": [
        {
          "output_type": "execute_result",
          "data": {
            "text/plain": [
              "count    61\n",
              "mean     20\n",
              "std      11\n",
              "min       6\n",
              "25%      14\n",
              "50%      20\n",
              "75%      22\n",
              "max      64\n",
              "Name: IBUs, dtype: int64"
            ]
          },
          "metadata": {
            "tags": []
          },
          "execution_count": 47
        }
      ]
    },
    {
      "cell_type": "code",
      "metadata": {
        "id": "CGl9hebWBqEV",
        "colab_type": "code",
        "outputId": "6a7bf502-434f-4108-938c-a7e31e6e2496",
        "colab": {
          "base_uri": "https://localhost:8080/",
          "height": 313
        }
      },
      "source": [
        "df = df5['IBUs'].mean()\n",
        "sns.distplot(df5['IBUs'].mean(),  kde=False, label='Hefeweizen')\n",
        "\n",
        "df = df8['IBUs'].mean()\n",
        "sns.distplot(df8['IBUs'].mean(),  kde=False,label='Witbier')\n",
        "\n",
        "df = df6['IBUs'].mean()\n",
        "sns.distplot(df6['IBUs'].mean(),  kde=False,label='American Pale Wheat Ale')\n",
        "\n",
        "# Plot formatting\n",
        "plt.legend(prop={'size': 18})\n",
        "plt.title('mean of three Beers')\n",
        "plt.xlabel('IBUs')\n",
        "plt.ylabel('Frequency')"
      ],
      "execution_count": 48,
      "outputs": [
        {
          "output_type": "execute_result",
          "data": {
            "text/plain": [
              "Text(0, 0.5, 'Frequency')"
            ]
          },
          "metadata": {
            "tags": []
          },
          "execution_count": 48
        },
        {
          "output_type": "display_data",
          "data": {
            "image/png": "[encoded data removed]",
            "text/plain": [
              "<Figure size 432x288 with 1 Axes>"
            ]
          },
          "metadata": {
            "tags": [],
            "needs_background": "light"
          }
        }
      ]
    },
    {
      "cell_type": "markdown",
      "metadata": {
        "id": "r47XyKhyh143",
        "colab_type": "text"
      },
      "source": [
        "## Βρείτε το μέσο όρο IBU για το είδος \"IPA\" και φτιάξτε ένα ιστόγραμμα."
      ]
    },
    {
      "cell_type": "code",
      "metadata": {
        "id": "0e7B5omLFPDv",
        "colab_type": "code",
        "outputId": "d14c1c7e-57c7-488c-972a-8745b35e75e0",
        "colab": {
          "base_uri": "https://localhost:8080/",
          "height": 228
        }
      },
      "source": [
        "df9 = df1['Style'].isin(('American IPA','Belgian IPA'))\n",
        "df9"
      ],
      "execution_count": 52,
      "outputs": [
        {
          "output_type": "execute_result",
          "data": {
            "text/plain": [
              "0        True\n",
              "1       False\n",
              "2       False\n",
              "3       False\n",
              "4       False\n",
              "        ...  \n",
              "2411    False\n",
              "2412    False\n",
              "2413    False\n",
              "2414    False\n",
              "2415    False\n",
              "Name: Style, Length: 2416, dtype: bool"
            ]
          },
          "metadata": {
            "tags": []
          },
          "execution_count": 52
        }
      ]
    },
    {
      "cell_type": "code",
      "metadata": {
        "id": "mWj4suVWh143",
        "colab_type": "code",
        "outputId": "4756c963-9b73-42cc-9381-5a923fe63792",
        "colab": {
          "base_uri": "https://localhost:8080/",
          "height": 175
        }
      },
      "source": [
        "df9= df1[df1['Style'] == 'American IPA']\n",
        "df9['IBUs'].mean()\n",
        "df9['IBUs'].describe().astype(int)"
      ],
      "execution_count": 53,
      "outputs": [
        {
          "output_type": "execute_result",
          "data": {
            "text/plain": [
              "count    301\n",
              "mean      67\n",
              "std       16\n",
              "min       30\n",
              "25%       60\n",
              "50%       69\n",
              "75%       75\n",
              "max      135\n",
              "Name: IBUs, dtype: int64"
            ]
          },
          "metadata": {
            "tags": []
          },
          "execution_count": 53
        }
      ]
    },
    {
      "cell_type": "code",
      "metadata": {
        "id": "c9LWApxPVLsQ",
        "colab_type": "code",
        "colab": {
          "base_uri": "https://localhost:8080/",
          "height": 296
        },
        "outputId": "0bb0c0eb-ff21-46b4-e1fd-c340222c6a1f"
      },
      "source": [
        "sns.distplot(df9['IBUs'].describe().astype(int), kde=False, color='red', bins=30) #με seaborn"
      ],
      "execution_count": 59,
      "outputs": [
        {
          "output_type": "execute_result",
          "data": {
            "text/plain": [
              "<matplotlib.axes._subplots.AxesSubplot at 0x7f6c47064908>"
            ]
          },
          "metadata": {
            "tags": []
          },
          "execution_count": 59
        },
        {
          "output_type": "display_data",
          "data": {
            "image/png": "[encoded data removed]",
            "text/plain": [
              "<Figure size 432x288 with 1 Axes>"
            ]
          },
          "metadata": {
            "tags": [],
            "needs_background": "light"
          }
        }
      ]
    },
    {
      "cell_type": "markdown",
      "metadata": {
        "id": "P96-hAyHh146",
        "colab_type": "text"
      },
      "source": [
        "## Κάντε ένα γράφημα και με τα 2 παραπάνω ιστογράμματα."
      ]
    },
    {
      "cell_type": "code",
      "metadata": {
        "id": "tinjI6Y6JnIi",
        "colab_type": "code",
        "outputId": "c65a6b9f-663d-4934-b180-ac9d90e08f26",
        "colab": {
          "base_uri": "https://localhost:8080/",
          "height": 297
        }
      },
      "source": [
        "import numpy as np\n",
        "import matplotlib.pyplot as plt\n",
        "\n",
        "\n",
        "y1 = np.random.normal(16, 17, 20)\n",
        "y2 = np.random.normal(67)\n",
        "colors = ['b','g']\n",
        "\n",
        "#plots the histogram\n",
        "fig, ax1 = plt.subplots()\n",
        "ax1.hist([y1,y2],color=colors)\n",
        "ax1.set_xlim(10,100)\n",
        "ax1.set_ylabel(\"Count\")\n",
        "plt.tight_layout()\n",
        "plt.show()"
      ],
      "execution_count": 56,
      "outputs": [
        {
          "output_type": "display_data",
          "data": {
            "image/png": "[encoded data removed]",
            "text/plain": [
              "<Figure size 432x288 with 1 Axes>"
            ]
          },
          "metadata": {
            "tags": [],
            "needs_background": "light"
          }
        }
      ]
    },
    {
      "cell_type": "markdown",
      "metadata": {
        "id": "BO9x4b5Dh14-",
        "colab_type": "text"
      },
      "source": [
        "## Συγκρίνετε το ABV από τις μπύρες που γίνονται από σιτάρι ( wheat ) σε σχέση με τις IPAs. Αν τα καταφέρετε, φτιάξτε και ένα γράφημα!"
      ]
    },
    {
      "cell_type": "code",
      "metadata": {
        "id": "DZBClobzh14_",
        "colab_type": "code",
        "outputId": "b659f0d8-b512-4925-b7df-a3d673422893",
        "colab": {
          "base_uri": "https://localhost:8080/",
          "height": 410
        }
      },
      "source": [
        "df11= df1[df1['Style'] == 'American Pale Wheat Ale']\n",
        "df11"
      ],
      "execution_count": 57,
      "outputs": [
        {
          "output_type": "execute_result",
          "data": {
            "text/html": [
              "<div>\n",
              "<style scoped>\n",
              "    .dataframe tbody tr th:only-of-type {\n",
              "        vertical-align: middle;\n",
              "    }\n",
              "\n",
              "    .dataframe tbody tr th {\n",
              "        vertical-align: top;\n",
              "    }\n",
              "\n",
              "    .dataframe thead th {\n",
              "        text-align: right;\n",
              "    }\n",
              "</style>\n",
              "<table border=\"1\" class=\"dataframe\">\n",
              "  <thead>\n",
              "    <tr style=\"text-align: right;\">\n",
              "      <th></th>\n",
              "      <th>Beer</th>\n",
              "      <th>Brewery</th>\n",
              "      <th>Location</th>\n",
              "      <th>Style</th>\n",
              "      <th>Size</th>\n",
              "      <th>ABV</th>\n",
              "      <th>IBUs</th>\n",
              "    </tr>\n",
              "  </thead>\n",
              "  <tbody>\n",
              "    <tr>\n",
              "      <th>30</th>\n",
              "      <td>Park</td>\n",
              "      <td>Fort Point Beer Company</td>\n",
              "      <td>San Francisco, CA</td>\n",
              "      <td>American Pale Wheat Ale</td>\n",
              "      <td>12 oz.</td>\n",
              "      <td>4.7</td>\n",
              "      <td>19.0</td>\n",
              "    </tr>\n",
              "    <tr>\n",
              "      <th>42</th>\n",
              "      <td>Whitewater</td>\n",
              "      <td>Great Divide Brewing Company</td>\n",
              "      <td>Denver, CO</td>\n",
              "      <td>American Pale Wheat Ale</td>\n",
              "      <td>12 oz.</td>\n",
              "      <td>6.1</td>\n",
              "      <td>NaN</td>\n",
              "    </tr>\n",
              "    <tr>\n",
              "      <th>72</th>\n",
              "      <td>Citra Faced</td>\n",
              "      <td>Three Pints Brewing</td>\n",
              "      <td>Martinsville, IN</td>\n",
              "      <td>American Pale Wheat Ale</td>\n",
              "      <td>16 oz.</td>\n",
              "      <td>5.5</td>\n",
              "      <td>64.0</td>\n",
              "    </tr>\n",
              "    <tr>\n",
              "      <th>112</th>\n",
              "      <td>Summer Wheat</td>\n",
              "      <td>Anchor Brewing Company</td>\n",
              "      <td>San Francisco, CA</td>\n",
              "      <td>American Pale Wheat Ale</td>\n",
              "      <td>12 oz.</td>\n",
              "      <td>4.5</td>\n",
              "      <td>NaN</td>\n",
              "    </tr>\n",
              "    <tr>\n",
              "      <th>195</th>\n",
              "      <td>Oberon</td>\n",
              "      <td>Bell's Brewery</td>\n",
              "      <td>Kalamazoo, MI</td>\n",
              "      <td>American Pale Wheat Ale</td>\n",
              "      <td>12 OZ.</td>\n",
              "      <td>5.8</td>\n",
              "      <td>NaN</td>\n",
              "    </tr>\n",
              "    <tr>\n",
              "      <th>...</th>\n",
              "      <td>...</td>\n",
              "      <td>...</td>\n",
              "      <td>...</td>\n",
              "      <td>...</td>\n",
              "      <td>...</td>\n",
              "      <td>...</td>\n",
              "      <td>...</td>\n",
              "    </tr>\n",
              "    <tr>\n",
              "      <th>2289</th>\n",
              "      <td>Point Nude Beach Summer Wheat (2010)</td>\n",
              "      <td>Stevens Point Brewery</td>\n",
              "      <td>Stevens Point, WI</td>\n",
              "      <td>American Pale Wheat Ale</td>\n",
              "      <td>12 oz.</td>\n",
              "      <td>5.0</td>\n",
              "      <td>7.0</td>\n",
              "    </tr>\n",
              "    <tr>\n",
              "      <th>2296</th>\n",
              "      <td>Morning Wood Wheat (Current)</td>\n",
              "      <td>Pug Ryan's Brewery</td>\n",
              "      <td>Dillon, CO</td>\n",
              "      <td>American Pale Wheat Ale</td>\n",
              "      <td>12 oz.</td>\n",
              "      <td>5.9</td>\n",
              "      <td>14.0</td>\n",
              "    </tr>\n",
              "    <tr>\n",
              "      <th>2311</th>\n",
              "      <td>Floppin' Crappie</td>\n",
              "      <td>Northwoods Brewpub</td>\n",
              "      <td>Eau Claire, WI</td>\n",
              "      <td>American Pale Wheat Ale</td>\n",
              "      <td>12 oz.</td>\n",
              "      <td>4.5</td>\n",
              "      <td>NaN</td>\n",
              "    </tr>\n",
              "    <tr>\n",
              "      <th>2344</th>\n",
              "      <td>Sunshine Wheat Beer (2009)</td>\n",
              "      <td>New Belgium Brewing Company</td>\n",
              "      <td>Fort Collins, CO</td>\n",
              "      <td>American Pale Wheat Ale</td>\n",
              "      <td>12 oz.</td>\n",
              "      <td>4.8</td>\n",
              "      <td>NaN</td>\n",
              "    </tr>\n",
              "    <tr>\n",
              "      <th>2383</th>\n",
              "      <td>Montana Trout Slayer Ale (2009)</td>\n",
              "      <td>Big Sky Brewing Company</td>\n",
              "      <td>Missoula, MT</td>\n",
              "      <td>American Pale Wheat Ale</td>\n",
              "      <td>12 oz.</td>\n",
              "      <td>5.0</td>\n",
              "      <td>35.0</td>\n",
              "    </tr>\n",
              "  </tbody>\n",
              "</table>\n",
              "<p>97 rows × 7 columns</p>\n",
              "</div>"
            ],
            "text/plain": [
              "                                      Beer  ...  IBUs\n",
              "30                                    Park  ...  19.0\n",
              "42                              Whitewater  ...   NaN\n",
              "72                             Citra Faced  ...  64.0\n",
              "112                           Summer Wheat  ...   NaN\n",
              "195                                 Oberon  ...   NaN\n",
              "...                                    ...  ...   ...\n",
              "2289  Point Nude Beach Summer Wheat (2010)  ...   7.0\n",
              "2296          Morning Wood Wheat (Current)  ...  14.0\n",
              "2311                      Floppin' Crappie  ...   NaN\n",
              "2344            Sunshine Wheat Beer (2009)  ...   NaN\n",
              "2383       Montana Trout Slayer Ale (2009)  ...  35.0\n",
              "\n",
              "[97 rows x 7 columns]"
            ]
          },
          "metadata": {
            "tags": []
          },
          "execution_count": 57
        }
      ]
    },
    {
      "cell_type": "code",
      "metadata": {
        "id": "wOyBVItOh15C",
        "colab_type": "code",
        "outputId": "4dcecb00-105e-404d-fc39-471d8eda0111",
        "colab": {
          "base_uri": "https://localhost:8080/",
          "height": 410
        }
      },
      "source": [
        "df12= df1[df1['Style'] == 'American IPA']\n",
        "df12"
      ],
      "execution_count": 58,
      "outputs": [
        {
          "output_type": "execute_result",
          "data": {
            "text/html": [
              "<div>\n",
              "<style scoped>\n",
              "    .dataframe tbody tr th:only-of-type {\n",
              "        vertical-align: middle;\n",
              "    }\n",
              "\n",
              "    .dataframe tbody tr th {\n",
              "        vertical-align: top;\n",
              "    }\n",
              "\n",
              "    .dataframe thead th {\n",
              "        text-align: right;\n",
              "    }\n",
              "</style>\n",
              "<table border=\"1\" class=\"dataframe\">\n",
              "  <thead>\n",
              "    <tr style=\"text-align: right;\">\n",
              "      <th></th>\n",
              "      <th>Beer</th>\n",
              "      <th>Brewery</th>\n",
              "      <th>Location</th>\n",
              "      <th>Style</th>\n",
              "      <th>Size</th>\n",
              "      <th>ABV</th>\n",
              "      <th>IBUs</th>\n",
              "    </tr>\n",
              "  </thead>\n",
              "  <tbody>\n",
              "    <tr>\n",
              "      <th>0</th>\n",
              "      <td>Get Together</td>\n",
              "      <td>NorthGate Brewing</td>\n",
              "      <td>Minneapolis, MN</td>\n",
              "      <td>American IPA</td>\n",
              "      <td>16 oz.</td>\n",
              "      <td>4.5</td>\n",
              "      <td>50.0</td>\n",
              "    </tr>\n",
              "    <tr>\n",
              "      <th>17</th>\n",
              "      <td>Pile of Face</td>\n",
              "      <td>Against the Grain Brewery</td>\n",
              "      <td>Louisville, KY</td>\n",
              "      <td>American IPA</td>\n",
              "      <td>16 oz.</td>\n",
              "      <td>6.0</td>\n",
              "      <td>65.0</td>\n",
              "    </tr>\n",
              "    <tr>\n",
              "      <th>25</th>\n",
              "      <td>Solis</td>\n",
              "      <td>Mike Hess Brewing Company</td>\n",
              "      <td>San Diego, CA</td>\n",
              "      <td>American IPA</td>\n",
              "      <td>16 oz.</td>\n",
              "      <td>7.5</td>\n",
              "      <td>85.0</td>\n",
              "    </tr>\n",
              "    <tr>\n",
              "      <th>33</th>\n",
              "      <td>Villager</td>\n",
              "      <td>Fort Point Beer Company</td>\n",
              "      <td>San Francisco, CA</td>\n",
              "      <td>American IPA</td>\n",
              "      <td>12 oz.</td>\n",
              "      <td>6.3</td>\n",
              "      <td>42.0</td>\n",
              "    </tr>\n",
              "    <tr>\n",
              "      <th>38</th>\n",
              "      <td>HopArt</td>\n",
              "      <td>COAST Brewing Company</td>\n",
              "      <td>Charleston, SC</td>\n",
              "      <td>American IPA</td>\n",
              "      <td>16 oz.</td>\n",
              "      <td>7.7</td>\n",
              "      <td>NaN</td>\n",
              "    </tr>\n",
              "    <tr>\n",
              "      <th>...</th>\n",
              "      <td>...</td>\n",
              "      <td>...</td>\n",
              "      <td>...</td>\n",
              "      <td>...</td>\n",
              "      <td>...</td>\n",
              "      <td>...</td>\n",
              "      <td>...</td>\n",
              "    </tr>\n",
              "    <tr>\n",
              "      <th>2382</th>\n",
              "      <td>Caldera IPA</td>\n",
              "      <td>Caldera Brewing Company</td>\n",
              "      <td>Ashland, OR</td>\n",
              "      <td>American IPA</td>\n",
              "      <td>12 oz.</td>\n",
              "      <td>6.1</td>\n",
              "      <td>94.0</td>\n",
              "    </tr>\n",
              "    <tr>\n",
              "      <th>2387</th>\n",
              "      <td>Big Swell IPA</td>\n",
              "      <td>Maui Brewing Company</td>\n",
              "      <td>Lahaina, HI</td>\n",
              "      <td>American IPA</td>\n",
              "      <td>12 oz.</td>\n",
              "      <td>6.2</td>\n",
              "      <td>65.0</td>\n",
              "    </tr>\n",
              "    <tr>\n",
              "      <th>2394</th>\n",
              "      <td>113 IPA</td>\n",
              "      <td>Sly Fox Brewing Company</td>\n",
              "      <td>Pottstown, PA</td>\n",
              "      <td>American IPA</td>\n",
              "      <td>12 oz.</td>\n",
              "      <td>7.0</td>\n",
              "      <td>113.0</td>\n",
              "    </tr>\n",
              "    <tr>\n",
              "      <th>2406</th>\n",
              "      <td>Furious</td>\n",
              "      <td>Surly Brewing Company</td>\n",
              "      <td>Brooklyn Center, MN</td>\n",
              "      <td>American IPA</td>\n",
              "      <td>16 oz.</td>\n",
              "      <td>6.2</td>\n",
              "      <td>99.0</td>\n",
              "    </tr>\n",
              "    <tr>\n",
              "      <th>2408</th>\n",
              "      <td>Brew Free! or Die IPA</td>\n",
              "      <td>21st Amendment Brewery</td>\n",
              "      <td>San Francisco, CA</td>\n",
              "      <td>American IPA</td>\n",
              "      <td>12 oz.</td>\n",
              "      <td>7.0</td>\n",
              "      <td>65.0</td>\n",
              "    </tr>\n",
              "  </tbody>\n",
              "</table>\n",
              "<p>424 rows × 7 columns</p>\n",
              "</div>"
            ],
            "text/plain": [
              "                       Beer                    Brewery  ...  ABV   IBUs\n",
              "0              Get Together          NorthGate Brewing  ...  4.5   50.0\n",
              "17             Pile of Face  Against the Grain Brewery  ...  6.0   65.0\n",
              "25                    Solis  Mike Hess Brewing Company  ...  7.5   85.0\n",
              "33                 Villager    Fort Point Beer Company  ...  6.3   42.0\n",
              "38                   HopArt      COAST Brewing Company  ...  7.7    NaN\n",
              "...                     ...                        ...  ...  ...    ...\n",
              "2382            Caldera IPA    Caldera Brewing Company  ...  6.1   94.0\n",
              "2387          Big Swell IPA       Maui Brewing Company  ...  6.2   65.0\n",
              "2394                113 IPA    Sly Fox Brewing Company  ...  7.0  113.0\n",
              "2406                Furious      Surly Brewing Company  ...  6.2   99.0\n",
              "2408  Brew Free! or Die IPA     21st Amendment Brewery  ...  7.0   65.0\n",
              "\n",
              "[424 rows x 7 columns]"
            ]
          },
          "metadata": {
            "tags": []
          },
          "execution_count": 58
        }
      ]
    }
  ]
}