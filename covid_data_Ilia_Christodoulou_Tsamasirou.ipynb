{
  "nbformat": 4,
  "nbformat_minor": 0,
  "metadata": {
    "colab": {
      "name": "covid data Ilia Christodoulou Tsamasirou.ipynb",
      "provenance": []
    },
    "kernelspec": {
      "name": "python3",
      "display_name": "Python 3"
    }
  },
  "cells": [
    {
      "cell_type": "code",
      "metadata": {
        "id": "B7b-tki6AoIo",
        "colab_type": "code",
        "colab": {
          "base_uri": "https://localhost:8080/",
          "height": 72
        },
        "outputId": "ec8d6d61-e516-4a40-af4c-6e85a5cd0a8f"
      },
      "source": [
        "import pandas as pd\n",
        "import numpy as np\n",
        "import matplotlib.pyplot as plt\n",
        "import seaborn as sns\n",
        "%matplotlib inline\n",
        "import matplotlib.ticker as ticker"
      ],
      "execution_count": 1,
      "outputs": [
        {
          "output_type": "stream",
          "text": [
            "/usr/local/lib/python3.6/dist-packages/statsmodels/tools/_testing.py:19: FutureWarning: pandas.util.testing is deprecated. Use the functions in the public API at pandas.testing instead.\n",
            "  import pandas.util.testing as tm\n"
          ],
          "name": "stderr"
        }
      ]
    },
    {
      "cell_type": "code",
      "metadata": {
        "id": "nVlVhlw4hn9V",
        "colab_type": "code",
        "colab": {}
      },
      "source": [
        "from google.colab import drive\n",
        "drive.mount('/gdrive')\n",
        "\n",
        "\n",
        "\n",
        "PATH = \"/gdrive/My\\ Drive/Colab\\ Notebooks/\"\n",
        "!ls {PATH}"
      ],
      "execution_count": null,
      "outputs": []
    },
    {
      "cell_type": "code",
      "metadata": {
        "id": "yDxFPZFKhygQ",
        "colab_type": "code",
        "colab": {
          "base_uri": "https://localhost:8080/",
          "height": 304
        },
        "outputId": "6d51800b-1beb-427f-abe7-421531fbd1c8"
      },
      "source": [
        "df = pd.read_csv(\"/gdrive/My Drive/Colab Notebooks/covid19 usa.csv\")\n",
        "df.tail()"
      ],
      "execution_count": 3,
      "outputs": [
        {
          "output_type": "execute_result",
          "data": {
            "text/html": [
              "<div>\n",
              "<style scoped>\n",
              "    .dataframe tbody tr th:only-of-type {\n",
              "        vertical-align: middle;\n",
              "    }\n",
              "\n",
              "    .dataframe tbody tr th {\n",
              "        vertical-align: top;\n",
              "    }\n",
              "\n",
              "    .dataframe thead th {\n",
              "        text-align: right;\n",
              "    }\n",
              "</style>\n",
              "<table border=\"1\" class=\"dataframe\">\n",
              "  <thead>\n",
              "    <tr style=\"text-align: right;\">\n",
              "      <th></th>\n",
              "      <th>Unnamed: 0</th>\n",
              "      <th>State</th>\n",
              "      <th>FIPS</th>\n",
              "      <th>County</th>\n",
              "      <th>Population 2018</th>\n",
              "      <th>Median Household Income 2018 ($)</th>\n",
              "      <th>Unemployment Rate 2018 (%)</th>\n",
              "      <th>Poverty 2018 (%)</th>\n",
              "      <th>Confirmed Cases</th>\n",
              "      <th>Confirmed Deaths</th>\n",
              "      <th>Confirmed Cases Per 100,000 people</th>\n",
              "      <th>Deaths Per 100,000 people</th>\n",
              "      <th>Mortality Rate (%)</th>\n",
              "      <th>White Alone (%)</th>\n",
              "      <th>Black Alone (%)</th>\n",
              "      <th>Native American Alone (%)</th>\n",
              "      <th>Asian Alone (%)</th>\n",
              "      <th>Hispanic (%)</th>\n",
              "      <th>Less than a High School Diploma (%)</th>\n",
              "      <th>Only a High School Diploma (%)</th>\n",
              "      <th>Some College/Associate's Degree (%)</th>\n",
              "      <th>Bachelor's Degree or Higher (%)</th>\n",
              "    </tr>\n",
              "  </thead>\n",
              "  <tbody>\n",
              "    <tr>\n",
              "      <th>2954</th>\n",
              "      <td>2954</td>\n",
              "      <td>Wyoming</td>\n",
              "      <td>56037</td>\n",
              "      <td>Sweetwater</td>\n",
              "      <td>42858</td>\n",
              "      <td>73315</td>\n",
              "      <td>4.0</td>\n",
              "      <td>8.4</td>\n",
              "      <td>30</td>\n",
              "      <td>0</td>\n",
              "      <td>69.998600</td>\n",
              "      <td>0.0</td>\n",
              "      <td>0.0</td>\n",
              "      <td>93.835219</td>\n",
              "      <td>1.375113</td>\n",
              "      <td>1.544680</td>\n",
              "      <td>1.010429</td>\n",
              "      <td>16.083250</td>\n",
              "      <td>9.0</td>\n",
              "      <td>33.3</td>\n",
              "      <td>35.7</td>\n",
              "      <td>22.0</td>\n",
              "    </tr>\n",
              "    <tr>\n",
              "      <th>2955</th>\n",
              "      <td>2955</td>\n",
              "      <td>Wyoming</td>\n",
              "      <td>56039</td>\n",
              "      <td>Teton</td>\n",
              "      <td>23269</td>\n",
              "      <td>99087</td>\n",
              "      <td>2.9</td>\n",
              "      <td>6.3</td>\n",
              "      <td>100</td>\n",
              "      <td>0</td>\n",
              "      <td>429.756328</td>\n",
              "      <td>0.0</td>\n",
              "      <td>0.0</td>\n",
              "      <td>95.190850</td>\n",
              "      <td>0.758199</td>\n",
              "      <td>0.914172</td>\n",
              "      <td>1.412417</td>\n",
              "      <td>14.878038</td>\n",
              "      <td>5.6</td>\n",
              "      <td>13.2</td>\n",
              "      <td>23.8</td>\n",
              "      <td>57.4</td>\n",
              "    </tr>\n",
              "    <tr>\n",
              "      <th>2956</th>\n",
              "      <td>2956</td>\n",
              "      <td>Wyoming</td>\n",
              "      <td>56041</td>\n",
              "      <td>Uinta</td>\n",
              "      <td>20292</td>\n",
              "      <td>63401</td>\n",
              "      <td>4.2</td>\n",
              "      <td>10.0</td>\n",
              "      <td>13</td>\n",
              "      <td>0</td>\n",
              "      <td>64.064656</td>\n",
              "      <td>0.0</td>\n",
              "      <td>0.0</td>\n",
              "      <td>95.354451</td>\n",
              "      <td>0.827627</td>\n",
              "      <td>1.418789</td>\n",
              "      <td>0.472930</td>\n",
              "      <td>9.236908</td>\n",
              "      <td>7.2</td>\n",
              "      <td>40.1</td>\n",
              "      <td>37.2</td>\n",
              "      <td>15.4</td>\n",
              "    </tr>\n",
              "    <tr>\n",
              "      <th>2957</th>\n",
              "      <td>2957</td>\n",
              "      <td>Wyoming</td>\n",
              "      <td>56043</td>\n",
              "      <td>Washakie</td>\n",
              "      <td>7877</td>\n",
              "      <td>55190</td>\n",
              "      <td>4.1</td>\n",
              "      <td>11.9</td>\n",
              "      <td>37</td>\n",
              "      <td>0</td>\n",
              "      <td>469.721975</td>\n",
              "      <td>0.0</td>\n",
              "      <td>0.0</td>\n",
              "      <td>94.483196</td>\n",
              "      <td>0.507292</td>\n",
              "      <td>1.813570</td>\n",
              "      <td>0.824350</td>\n",
              "      <td>14.051997</td>\n",
              "      <td>10.4</td>\n",
              "      <td>30.3</td>\n",
              "      <td>37.7</td>\n",
              "      <td>21.5</td>\n",
              "    </tr>\n",
              "    <tr>\n",
              "      <th>2958</th>\n",
              "      <td>2958</td>\n",
              "      <td>Wyoming</td>\n",
              "      <td>56045</td>\n",
              "      <td>Weston</td>\n",
              "      <td>6924</td>\n",
              "      <td>54319</td>\n",
              "      <td>3.3</td>\n",
              "      <td>11.8</td>\n",
              "      <td>1</td>\n",
              "      <td>0</td>\n",
              "      <td>14.442519</td>\n",
              "      <td>0.0</td>\n",
              "      <td>0.0</td>\n",
              "      <td>93.081671</td>\n",
              "      <td>0.688962</td>\n",
              "      <td>1.765466</td>\n",
              "      <td>1.937706</td>\n",
              "      <td>4.076360</td>\n",
              "      <td>7.8</td>\n",
              "      <td>35.8</td>\n",
              "      <td>37.3</td>\n",
              "      <td>19.2</td>\n",
              "    </tr>\n",
              "  </tbody>\n",
              "</table>\n",
              "</div>"
            ],
            "text/plain": [
              "      Unnamed: 0  ... Bachelor's Degree or Higher (%)\n",
              "2954        2954  ...                            22.0\n",
              "2955        2955  ...                            57.4\n",
              "2956        2956  ...                            15.4\n",
              "2957        2957  ...                            21.5\n",
              "2958        2958  ...                            19.2\n",
              "\n",
              "[5 rows x 22 columns]"
            ]
          },
          "metadata": {
            "tags": []
          },
          "execution_count": 3
        }
      ]
    },
    {
      "cell_type": "code",
      "metadata": {
        "id": "oRFruJEAioy2",
        "colab_type": "code",
        "colab": {
          "base_uri": "https://localhost:8080/",
          "height": 421
        },
        "outputId": "d4ee1f23-a8b0-4039-81d4-b179c8cbc4d4"
      },
      "source": [
        "df.dtypes"
      ],
      "execution_count": 4,
      "outputs": [
        {
          "output_type": "execute_result",
          "data": {
            "text/plain": [
              "Unnamed: 0                               int64\n",
              "State                                   object\n",
              "FIPS                                     int64\n",
              "County                                  object\n",
              "Population 2018                          int64\n",
              "Median Household Income 2018 ($)         int64\n",
              "Unemployment Rate 2018 (%)             float64\n",
              "Poverty 2018 (%)                       float64\n",
              "Confirmed Cases                          int64\n",
              "Confirmed Deaths                         int64\n",
              "Confirmed Cases Per 100,000 people     float64\n",
              "Deaths Per 100,000 people              float64\n",
              "Mortality Rate (%)                     float64\n",
              "White Alone (%)                        float64\n",
              "Black Alone (%)                        float64\n",
              "Native American Alone (%)              float64\n",
              "Asian Alone (%)                        float64\n",
              "Hispanic (%)                           float64\n",
              "Less than a High School Diploma (%)    float64\n",
              "Only a High School Diploma (%)         float64\n",
              "Some College/Associate's Degree (%)    float64\n",
              "Bachelor's Degree or Higher (%)        float64\n",
              "dtype: object"
            ]
          },
          "metadata": {
            "tags": []
          },
          "execution_count": 4
        }
      ]
    },
    {
      "cell_type": "code",
      "metadata": {
        "id": "Ev4WbVcsiviG",
        "colab_type": "code",
        "colab": {
          "base_uri": "https://localhost:8080/",
          "height": 421
        },
        "outputId": "9347caa6-fd1e-419c-c6bc-44367d300ffd"
      },
      "source": [
        "df.isnull().sum()"
      ],
      "execution_count": 5,
      "outputs": [
        {
          "output_type": "execute_result",
          "data": {
            "text/plain": [
              "Unnamed: 0                             0\n",
              "State                                  0\n",
              "FIPS                                   0\n",
              "County                                 0\n",
              "Population 2018                        0\n",
              "Median Household Income 2018 ($)       0\n",
              "Unemployment Rate 2018 (%)             0\n",
              "Poverty 2018 (%)                       0\n",
              "Confirmed Cases                        0\n",
              "Confirmed Deaths                       0\n",
              "Confirmed Cases Per 100,000 people     0\n",
              "Deaths Per 100,000 people              0\n",
              "Mortality Rate (%)                     0\n",
              "White Alone (%)                        0\n",
              "Black Alone (%)                        0\n",
              "Native American Alone (%)              0\n",
              "Asian Alone (%)                        0\n",
              "Hispanic (%)                           0\n",
              "Less than a High School Diploma (%)    0\n",
              "Only a High School Diploma (%)         0\n",
              "Some College/Associate's Degree (%)    0\n",
              "Bachelor's Degree or Higher (%)        0\n",
              "dtype: int64"
            ]
          },
          "metadata": {
            "tags": []
          },
          "execution_count": 5
        }
      ]
    },
    {
      "cell_type": "code",
      "metadata": {
        "id": "4lra3H-ljkhQ",
        "colab_type": "code",
        "colab": {}
      },
      "source": [
        "missing_values = [\"n/a\", \"na\", \"--\", 999, \"???\", \"N/A\", \"Unknown\", \"UNKNOWN\", \"-\"]"
      ],
      "execution_count": 6,
      "outputs": []
    },
    {
      "cell_type": "code",
      "metadata": {
        "id": "260YaPLBjnnT",
        "colab_type": "code",
        "colab": {}
      },
      "source": [
        "df= df.replace(\"-\", np.nan)\n",
        "df= df.replace(\"N/A\", np.nan)\n",
        "df= df.replace(\"UNKNOWN\", np.nan)\n",
        "df=df.replace(\"Unknown\", np.nan)"
      ],
      "execution_count": 7,
      "outputs": []
    },
    {
      "cell_type": "code",
      "metadata": {
        "id": "KLp5MXKGkBnX",
        "colab_type": "code",
        "colab": {
          "base_uri": "https://localhost:8080/",
          "height": 427
        },
        "outputId": "8521898b-c862-45d8-dd7f-2fc7a8c0e5f1"
      },
      "source": [
        "df = df[[\"State\", \"County\", \"Population 2018\", \"Poverty 2018 (%)\", \"Confirmed Cases\", \"Confirmed Deaths\", \"Confirmed Cases Per 100,000 people\", \"Deaths Per 100,000 people\", \"Unemployment Rate 2018 (%)\"]]\n",
        "df"
      ],
      "execution_count": 8,
      "outputs": [
        {
          "output_type": "execute_result",
          "data": {
            "text/html": [
              "<div>\n",
              "<style scoped>\n",
              "    .dataframe tbody tr th:only-of-type {\n",
              "        vertical-align: middle;\n",
              "    }\n",
              "\n",
              "    .dataframe tbody tr th {\n",
              "        vertical-align: top;\n",
              "    }\n",
              "\n",
              "    .dataframe thead th {\n",
              "        text-align: right;\n",
              "    }\n",
              "</style>\n",
              "<table border=\"1\" class=\"dataframe\">\n",
              "  <thead>\n",
              "    <tr style=\"text-align: right;\">\n",
              "      <th></th>\n",
              "      <th>State</th>\n",
              "      <th>County</th>\n",
              "      <th>Population 2018</th>\n",
              "      <th>Poverty 2018 (%)</th>\n",
              "      <th>Confirmed Cases</th>\n",
              "      <th>Confirmed Deaths</th>\n",
              "      <th>Confirmed Cases Per 100,000 people</th>\n",
              "      <th>Deaths Per 100,000 people</th>\n",
              "      <th>Unemployment Rate 2018 (%)</th>\n",
              "    </tr>\n",
              "  </thead>\n",
              "  <tbody>\n",
              "    <tr>\n",
              "      <th>0</th>\n",
              "      <td>Alabama</td>\n",
              "      <td>Autauga</td>\n",
              "      <td>55533</td>\n",
              "      <td>13.8</td>\n",
              "      <td>239</td>\n",
              "      <td>5</td>\n",
              "      <td>430.374732</td>\n",
              "      <td>9.003655</td>\n",
              "      <td>3.6</td>\n",
              "    </tr>\n",
              "    <tr>\n",
              "      <th>1</th>\n",
              "      <td>Alabama</td>\n",
              "      <td>Baldwin</td>\n",
              "      <td>217855</td>\n",
              "      <td>9.8</td>\n",
              "      <td>292</td>\n",
              "      <td>9</td>\n",
              "      <td>134.034105</td>\n",
              "      <td>4.131188</td>\n",
              "      <td>3.6</td>\n",
              "    </tr>\n",
              "    <tr>\n",
              "      <th>2</th>\n",
              "      <td>Alabama</td>\n",
              "      <td>Barbour</td>\n",
              "      <td>24872</td>\n",
              "      <td>30.9</td>\n",
              "      <td>175</td>\n",
              "      <td>1</td>\n",
              "      <td>703.602445</td>\n",
              "      <td>4.020585</td>\n",
              "      <td>5.1</td>\n",
              "    </tr>\n",
              "    <tr>\n",
              "      <th>3</th>\n",
              "      <td>Alabama</td>\n",
              "      <td>Bibb</td>\n",
              "      <td>22367</td>\n",
              "      <td>21.8</td>\n",
              "      <td>76</td>\n",
              "      <td>1</td>\n",
              "      <td>339.786292</td>\n",
              "      <td>4.470872</td>\n",
              "      <td>3.9</td>\n",
              "    </tr>\n",
              "    <tr>\n",
              "      <th>4</th>\n",
              "      <td>Alabama</td>\n",
              "      <td>Blount</td>\n",
              "      <td>57771</td>\n",
              "      <td>13.2</td>\n",
              "      <td>63</td>\n",
              "      <td>1</td>\n",
              "      <td>109.051254</td>\n",
              "      <td>1.730972</td>\n",
              "      <td>3.5</td>\n",
              "    </tr>\n",
              "    <tr>\n",
              "      <th>...</th>\n",
              "      <td>...</td>\n",
              "      <td>...</td>\n",
              "      <td>...</td>\n",
              "      <td>...</td>\n",
              "      <td>...</td>\n",
              "      <td>...</td>\n",
              "      <td>...</td>\n",
              "      <td>...</td>\n",
              "      <td>...</td>\n",
              "    </tr>\n",
              "    <tr>\n",
              "      <th>2954</th>\n",
              "      <td>Wyoming</td>\n",
              "      <td>Sweetwater</td>\n",
              "      <td>42858</td>\n",
              "      <td>8.4</td>\n",
              "      <td>30</td>\n",
              "      <td>0</td>\n",
              "      <td>69.998600</td>\n",
              "      <td>0.000000</td>\n",
              "      <td>4.0</td>\n",
              "    </tr>\n",
              "    <tr>\n",
              "      <th>2955</th>\n",
              "      <td>Wyoming</td>\n",
              "      <td>Teton</td>\n",
              "      <td>23269</td>\n",
              "      <td>6.3</td>\n",
              "      <td>100</td>\n",
              "      <td>0</td>\n",
              "      <td>429.756328</td>\n",
              "      <td>0.000000</td>\n",
              "      <td>2.9</td>\n",
              "    </tr>\n",
              "    <tr>\n",
              "      <th>2956</th>\n",
              "      <td>Wyoming</td>\n",
              "      <td>Uinta</td>\n",
              "      <td>20292</td>\n",
              "      <td>10.0</td>\n",
              "      <td>13</td>\n",
              "      <td>0</td>\n",
              "      <td>64.064656</td>\n",
              "      <td>0.000000</td>\n",
              "      <td>4.2</td>\n",
              "    </tr>\n",
              "    <tr>\n",
              "      <th>2957</th>\n",
              "      <td>Wyoming</td>\n",
              "      <td>Washakie</td>\n",
              "      <td>7877</td>\n",
              "      <td>11.9</td>\n",
              "      <td>37</td>\n",
              "      <td>0</td>\n",
              "      <td>469.721975</td>\n",
              "      <td>0.000000</td>\n",
              "      <td>4.1</td>\n",
              "    </tr>\n",
              "    <tr>\n",
              "      <th>2958</th>\n",
              "      <td>Wyoming</td>\n",
              "      <td>Weston</td>\n",
              "      <td>6924</td>\n",
              "      <td>11.8</td>\n",
              "      <td>1</td>\n",
              "      <td>0</td>\n",
              "      <td>14.442519</td>\n",
              "      <td>0.000000</td>\n",
              "      <td>3.3</td>\n",
              "    </tr>\n",
              "  </tbody>\n",
              "</table>\n",
              "<p>2959 rows × 9 columns</p>\n",
              "</div>"
            ],
            "text/plain": [
              "        State  ... Unemployment Rate 2018 (%)\n",
              "0     Alabama  ...                        3.6\n",
              "1     Alabama  ...                        3.6\n",
              "2     Alabama  ...                        5.1\n",
              "3     Alabama  ...                        3.9\n",
              "4     Alabama  ...                        3.5\n",
              "...       ...  ...                        ...\n",
              "2954  Wyoming  ...                        4.0\n",
              "2955  Wyoming  ...                        2.9\n",
              "2956  Wyoming  ...                        4.2\n",
              "2957  Wyoming  ...                        4.1\n",
              "2958  Wyoming  ...                        3.3\n",
              "\n",
              "[2959 rows x 9 columns]"
            ]
          },
          "metadata": {
            "tags": []
          },
          "execution_count": 8
        }
      ]
    },
    {
      "cell_type": "code",
      "metadata": {
        "id": "koUSCCPPuIRN",
        "colab_type": "code",
        "colab": {
          "base_uri": "https://localhost:8080/",
          "height": 34
        },
        "outputId": "04160e7a-aabc-4354-d499-51ff496ae86f"
      },
      "source": [
        "df[\"Confirmed Deaths\"].sum()"
      ],
      "execution_count": 9,
      "outputs": [
        {
          "output_type": "execute_result",
          "data": {
            "text/plain": [
              "104721"
            ]
          },
          "metadata": {
            "tags": []
          },
          "execution_count": 9
        }
      ]
    },
    {
      "cell_type": "code",
      "metadata": {
        "id": "aEQgNt9ZrvxF",
        "colab_type": "code",
        "colab": {
          "base_uri": "https://localhost:8080/",
          "height": 34
        },
        "outputId": "1d4ed939-4e39-4fae-dd76-ed363fc18e68"
      },
      "source": [
        "df[\"Confirmed Cases\"].sum()"
      ],
      "execution_count": 10,
      "outputs": [
        {
          "output_type": "execute_result",
          "data": {
            "text/plain": [
              "1811633"
            ]
          },
          "metadata": {
            "tags": []
          },
          "execution_count": 10
        }
      ]
    },
    {
      "cell_type": "code",
      "metadata": {
        "id": "3wlHxpfBwJkM",
        "colab_type": "code",
        "colab": {
          "base_uri": "https://localhost:8080/",
          "height": 34
        },
        "outputId": "59184eef-a768-487d-c549-a3f59f7b4afe"
      },
      "source": [
        "df[\"Poverty 2018 (%)\"].mean()"
      ],
      "execution_count": 12,
      "outputs": [
        {
          "output_type": "execute_result",
          "data": {
            "text/plain": [
              "15.220953024670523"
            ]
          },
          "metadata": {
            "tags": []
          },
          "execution_count": 12
        }
      ]
    },
    {
      "cell_type": "code",
      "metadata": {
        "id": "jd80u-jqkyTg",
        "colab_type": "code",
        "colab": {
          "base_uri": "https://localhost:8080/",
          "height": 193
        },
        "outputId": "499c90d2-032c-45f3-cc58-885e1e9f5ce6"
      },
      "source": [
        "df.dtypes"
      ],
      "execution_count": 13,
      "outputs": [
        {
          "output_type": "execute_result",
          "data": {
            "text/plain": [
              "State                                  object\n",
              "County                                 object\n",
              "Population 2018                         int64\n",
              "Poverty 2018 (%)                      float64\n",
              "Confirmed Cases                         int64\n",
              "Confirmed Deaths                        int64\n",
              "Confirmed Cases Per 100,000 people    float64\n",
              "Deaths Per 100,000 people             float64\n",
              "Unemployment Rate 2018 (%)            float64\n",
              "dtype: object"
            ]
          },
          "metadata": {
            "tags": []
          },
          "execution_count": 13
        }
      ]
    },
    {
      "cell_type": "code",
      "metadata": {
        "id": "PrdyX5FelwQI",
        "colab_type": "code",
        "colab": {
          "base_uri": "https://localhost:8080/",
          "height": 756
        },
        "outputId": "4fcb60a4-9f0c-4437-ed7a-769ad308916e"
      },
      "source": [
        "df1= df.sort_values(by='Population 2018', ascending = False).head(20)\n",
        "df1"
      ],
      "execution_count": 14,
      "outputs": [
        {
          "output_type": "execute_result",
          "data": {
            "text/html": [
              "<div>\n",
              "<style scoped>\n",
              "    .dataframe tbody tr th:only-of-type {\n",
              "        vertical-align: middle;\n",
              "    }\n",
              "\n",
              "    .dataframe tbody tr th {\n",
              "        vertical-align: top;\n",
              "    }\n",
              "\n",
              "    .dataframe thead th {\n",
              "        text-align: right;\n",
              "    }\n",
              "</style>\n",
              "<table border=\"1\" class=\"dataframe\">\n",
              "  <thead>\n",
              "    <tr style=\"text-align: right;\">\n",
              "      <th></th>\n",
              "      <th>State</th>\n",
              "      <th>County</th>\n",
              "      <th>Population 2018</th>\n",
              "      <th>Poverty 2018 (%)</th>\n",
              "      <th>Confirmed Cases</th>\n",
              "      <th>Confirmed Deaths</th>\n",
              "      <th>Confirmed Cases Per 100,000 people</th>\n",
              "      <th>Deaths Per 100,000 people</th>\n",
              "      <th>Unemployment Rate 2018 (%)</th>\n",
              "    </tr>\n",
              "  </thead>\n",
              "  <tbody>\n",
              "    <tr>\n",
              "      <th>190</th>\n",
              "      <td>California</td>\n",
              "      <td>Los Angeles</td>\n",
              "      <td>10073906</td>\n",
              "      <td>14.2</td>\n",
              "      <td>57219</td>\n",
              "      <td>2448</td>\n",
              "      <td>567.992197</td>\n",
              "      <td>24.300405</td>\n",
              "      <td>4.6</td>\n",
              "    </tr>\n",
              "    <tr>\n",
              "      <th>583</th>\n",
              "      <td>Illinois</td>\n",
              "      <td>Cook</td>\n",
              "      <td>5171960</td>\n",
              "      <td>13.8</td>\n",
              "      <td>79673</td>\n",
              "      <td>3726</td>\n",
              "      <td>1540.479818</td>\n",
              "      <td>72.042321</td>\n",
              "      <td>4.1</td>\n",
              "    </tr>\n",
              "    <tr>\n",
              "      <th>2481</th>\n",
              "      <td>Texas</td>\n",
              "      <td>Harris</td>\n",
              "      <td>4680045</td>\n",
              "      <td>16.5</td>\n",
              "      <td>13027</td>\n",
              "      <td>236</td>\n",
              "      <td>278.352024</td>\n",
              "      <td>5.042687</td>\n",
              "      <td>4.4</td>\n",
              "    </tr>\n",
              "    <tr>\n",
              "      <th>90</th>\n",
              "      <td>Arizona</td>\n",
              "      <td>Maricopa</td>\n",
              "      <td>4402403</td>\n",
              "      <td>12.3</td>\n",
              "      <td>10536</td>\n",
              "      <td>448</td>\n",
              "      <td>239.323842</td>\n",
              "      <td>10.176261</td>\n",
              "      <td>4.1</td>\n",
              "    </tr>\n",
              "    <tr>\n",
              "      <th>207</th>\n",
              "      <td>California</td>\n",
              "      <td>San Diego</td>\n",
              "      <td>3333861</td>\n",
              "      <td>11.5</td>\n",
              "      <td>7554</td>\n",
              "      <td>269</td>\n",
              "      <td>226.584132</td>\n",
              "      <td>8.068723</td>\n",
              "      <td>3.4</td>\n",
              "    </tr>\n",
              "    <tr>\n",
              "      <th>200</th>\n",
              "      <td>California</td>\n",
              "      <td>Orange</td>\n",
              "      <td>3175973</td>\n",
              "      <td>10.5</td>\n",
              "      <td>6574</td>\n",
              "      <td>150</td>\n",
              "      <td>206.991684</td>\n",
              "      <td>4.722962</td>\n",
              "      <td>3.0</td>\n",
              "    </tr>\n",
              "    <tr>\n",
              "      <th>343</th>\n",
              "      <td>Florida</td>\n",
              "      <td>Miami-Dade</td>\n",
              "      <td>2714854</td>\n",
              "      <td>16.0</td>\n",
              "      <td>18224</td>\n",
              "      <td>722</td>\n",
              "      <td>671.269984</td>\n",
              "      <td>26.594432</td>\n",
              "      <td>3.5</td>\n",
              "    </tr>\n",
              "    <tr>\n",
              "      <th>2439</th>\n",
              "      <td>Texas</td>\n",
              "      <td>Dallas</td>\n",
              "      <td>2629350</td>\n",
              "      <td>14.2</td>\n",
              "      <td>10719</td>\n",
              "      <td>245</td>\n",
              "      <td>407.667294</td>\n",
              "      <td>9.317892</td>\n",
              "      <td>3.8</td>\n",
              "    </tr>\n",
              "    <tr>\n",
              "      <th>203</th>\n",
              "      <td>California</td>\n",
              "      <td>Riverside</td>\n",
              "      <td>2445789</td>\n",
              "      <td>12.7</td>\n",
              "      <td>8155</td>\n",
              "      <td>342</td>\n",
              "      <td>333.430235</td>\n",
              "      <td>13.983218</td>\n",
              "      <td>4.5</td>\n",
              "    </tr>\n",
              "    <tr>\n",
              "      <th>2788</th>\n",
              "      <td>Washington</td>\n",
              "      <td>King</td>\n",
              "      <td>2228364</td>\n",
              "      <td>9.2</td>\n",
              "      <td>8177</td>\n",
              "      <td>570</td>\n",
              "      <td>366.950821</td>\n",
              "      <td>25.579304</td>\n",
              "      <td>3.2</td>\n",
              "    </tr>\n",
              "    <tr>\n",
              "      <th>1644</th>\n",
              "      <td>Nevada</td>\n",
              "      <td>Clark</td>\n",
              "      <td>2226115</td>\n",
              "      <td>14.0</td>\n",
              "      <td>6845</td>\n",
              "      <td>343</td>\n",
              "      <td>307.486361</td>\n",
              "      <td>15.408009</td>\n",
              "      <td>4.7</td>\n",
              "    </tr>\n",
              "    <tr>\n",
              "      <th>206</th>\n",
              "      <td>California</td>\n",
              "      <td>San Bernardino</td>\n",
              "      <td>2166753</td>\n",
              "      <td>14.9</td>\n",
              "      <td>5501</td>\n",
              "      <td>208</td>\n",
              "      <td>253.882191</td>\n",
              "      <td>9.599617</td>\n",
              "      <td>4.1</td>\n",
              "    </tr>\n",
              "    <tr>\n",
              "      <th>2586</th>\n",
              "      <td>Texas</td>\n",
              "      <td>Tarrant</td>\n",
              "      <td>2081446</td>\n",
              "      <td>12.1</td>\n",
              "      <td>5534</td>\n",
              "      <td>165</td>\n",
              "      <td>265.872860</td>\n",
              "      <td>7.927181</td>\n",
              "      <td>3.5</td>\n",
              "    </tr>\n",
              "    <tr>\n",
              "      <th>2400</th>\n",
              "      <td>Texas</td>\n",
              "      <td>Bexar</td>\n",
              "      <td>1981187</td>\n",
              "      <td>17.2</td>\n",
              "      <td>2839</td>\n",
              "      <td>75</td>\n",
              "      <td>143.297932</td>\n",
              "      <td>3.785609</td>\n",
              "      <td>3.3</td>\n",
              "    </tr>\n",
              "    <tr>\n",
              "      <th>306</th>\n",
              "      <td>Florida</td>\n",
              "      <td>Broward</td>\n",
              "      <td>1946107</td>\n",
              "      <td>12.6</td>\n",
              "      <td>7248</td>\n",
              "      <td>317</td>\n",
              "      <td>372.435842</td>\n",
              "      <td>16.288930</td>\n",
              "      <td>3.4</td>\n",
              "    </tr>\n",
              "    <tr>\n",
              "      <th>213</th>\n",
              "      <td>California</td>\n",
              "      <td>Santa Clara</td>\n",
              "      <td>1932337</td>\n",
              "      <td>7.3</td>\n",
              "      <td>2819</td>\n",
              "      <td>143</td>\n",
              "      <td>145.885526</td>\n",
              "      <td>7.400365</td>\n",
              "      <td>2.7</td>\n",
              "    </tr>\n",
              "    <tr>\n",
              "      <th>1263</th>\n",
              "      <td>Michigan</td>\n",
              "      <td>Wayne</td>\n",
              "      <td>1754453</td>\n",
              "      <td>21.7</td>\n",
              "      <td>20468</td>\n",
              "      <td>2475</td>\n",
              "      <td>1166.631423</td>\n",
              "      <td>141.069610</td>\n",
              "      <td>5.2</td>\n",
              "    </tr>\n",
              "    <tr>\n",
              "      <th>172</th>\n",
              "      <td>California</td>\n",
              "      <td>Alameda</td>\n",
              "      <td>1666756</td>\n",
              "      <td>9.0</td>\n",
              "      <td>3515</td>\n",
              "      <td>97</td>\n",
              "      <td>210.888696</td>\n",
              "      <td>5.819688</td>\n",
              "      <td>3.1</td>\n",
              "    </tr>\n",
              "    <tr>\n",
              "      <th>1750</th>\n",
              "      <td>New York</td>\n",
              "      <td>New York City</td>\n",
              "      <td>1629055</td>\n",
              "      <td>15.6</td>\n",
              "      <td>204377</td>\n",
              "      <td>21649</td>\n",
              "      <td>12545.739708</td>\n",
              "      <td>1328.929962</td>\n",
              "      <td>3.7</td>\n",
              "    </tr>\n",
              "    <tr>\n",
              "      <th>1180</th>\n",
              "      <td>Massachusetts</td>\n",
              "      <td>Middlesex</td>\n",
              "      <td>1608470</td>\n",
              "      <td>7.3</td>\n",
              "      <td>22296</td>\n",
              "      <td>1663</td>\n",
              "      <td>1386.162005</td>\n",
              "      <td>103.390178</td>\n",
              "      <td>2.7</td>\n",
              "    </tr>\n",
              "  </tbody>\n",
              "</table>\n",
              "</div>"
            ],
            "text/plain": [
              "              State  ... Unemployment Rate 2018 (%)\n",
              "190      California  ...                        4.6\n",
              "583        Illinois  ...                        4.1\n",
              "2481          Texas  ...                        4.4\n",
              "90          Arizona  ...                        4.1\n",
              "207      California  ...                        3.4\n",
              "200      California  ...                        3.0\n",
              "343         Florida  ...                        3.5\n",
              "2439          Texas  ...                        3.8\n",
              "203      California  ...                        4.5\n",
              "2788     Washington  ...                        3.2\n",
              "1644         Nevada  ...                        4.7\n",
              "206      California  ...                        4.1\n",
              "2586          Texas  ...                        3.5\n",
              "2400          Texas  ...                        3.3\n",
              "306         Florida  ...                        3.4\n",
              "213      California  ...                        2.7\n",
              "1263       Michigan  ...                        5.2\n",
              "172      California  ...                        3.1\n",
              "1750       New York  ...                        3.7\n",
              "1180  Massachusetts  ...                        2.7\n",
              "\n",
              "[20 rows x 9 columns]"
            ]
          },
          "metadata": {
            "tags": []
          },
          "execution_count": 14
        }
      ]
    },
    {
      "cell_type": "code",
      "metadata": {
        "id": "I2A5kC7pf3li",
        "colab_type": "code",
        "colab": {
          "base_uri": "https://localhost:8080/",
          "height": 419
        },
        "outputId": "3f8f626a-258e-40fc-f099-42f5024b7764"
      },
      "source": [
        "ax = df1.plot(kind='bar', figsize= (10,5), x='County', y='Confirmed Cases', color='C7')\n",
        "df1.plot(kind='bar', x='County', y='Confirmed Deaths', color='C3', ax=ax)\n",
        "\n"
      ],
      "execution_count": 15,
      "outputs": [
        {
          "output_type": "execute_result",
          "data": {
            "text/plain": [
              "<matplotlib.axes._subplots.AxesSubplot at 0x7f0da5f07f28>"
            ]
          },
          "metadata": {
            "tags": []
          },
          "execution_count": 15
        },
        {
          "output_type": "display_data",
          "data": {
            "image/png": "[encoded data removed]",
            "text/plain": [
              "<Figure size 720x360 with 1 Axes>"
            ]
          },
          "metadata": {
            "tags": [],
            "needs_background": "light"
          }
        }
      ]
    },
    {
      "cell_type": "code",
      "metadata": {
        "id": "35PbQJKJmS9k",
        "colab_type": "code",
        "colab": {
          "base_uri": "https://localhost:8080/",
          "height": 430
        },
        "outputId": "afe3aaeb-0cb6-438d-ee0b-b7b2547c8372"
      },
      "source": [
        "df1.plot(x=\"County\", y=[\"Population 2018\", \"Confirmed Cases\", \"Confirmed Deaths\"], kind=\"bar\", figsize= (10,5))\n"
      ],
      "execution_count": 16,
      "outputs": [
        {
          "output_type": "execute_result",
          "data": {
            "text/plain": [
              "<matplotlib.axes._subplots.AxesSubplot at 0x7f0dd1f36e80>"
            ]
          },
          "metadata": {
            "tags": []
          },
          "execution_count": 16
        },
        {
          "output_type": "display_data",
          "data": {
            "image/png": "[encoded data removed]",
            "text/plain": [
              "<Figure size 720x360 with 1 Axes>"
            ]
          },
          "metadata": {
            "tags": [],
            "needs_background": "light"
          }
        }
      ]
    },
    {
      "cell_type": "code",
      "metadata": {
        "id": "5V16TOzqpVCk",
        "colab_type": "code",
        "colab": {
          "base_uri": "https://localhost:8080/",
          "height": 250
        },
        "outputId": "1c8f292a-1a2a-4d57-9b1f-8914c7ccede2"
      },
      "source": [
        "df2= df.sort_values(by='Confirmed Cases', ascending = False).head(20)\n",
        "df2.head()"
      ],
      "execution_count": 17,
      "outputs": [
        {
          "output_type": "execute_result",
          "data": {
            "text/html": [
              "<div>\n",
              "<style scoped>\n",
              "    .dataframe tbody tr th:only-of-type {\n",
              "        vertical-align: middle;\n",
              "    }\n",
              "\n",
              "    .dataframe tbody tr th {\n",
              "        vertical-align: top;\n",
              "    }\n",
              "\n",
              "    .dataframe thead th {\n",
              "        text-align: right;\n",
              "    }\n",
              "</style>\n",
              "<table border=\"1\" class=\"dataframe\">\n",
              "  <thead>\n",
              "    <tr style=\"text-align: right;\">\n",
              "      <th></th>\n",
              "      <th>State</th>\n",
              "      <th>County</th>\n",
              "      <th>Population 2018</th>\n",
              "      <th>Poverty 2018 (%)</th>\n",
              "      <th>Confirmed Cases</th>\n",
              "      <th>Confirmed Deaths</th>\n",
              "      <th>Confirmed Cases Per 100,000 people</th>\n",
              "      <th>Deaths Per 100,000 people</th>\n",
              "      <th>Unemployment Rate 2018 (%)</th>\n",
              "    </tr>\n",
              "  </thead>\n",
              "  <tbody>\n",
              "    <tr>\n",
              "      <th>1750</th>\n",
              "      <td>New York</td>\n",
              "      <td>New York City</td>\n",
              "      <td>1629055</td>\n",
              "      <td>15.6</td>\n",
              "      <td>204377</td>\n",
              "      <td>21649</td>\n",
              "      <td>12545.739708</td>\n",
              "      <td>1328.929962</td>\n",
              "      <td>3.7</td>\n",
              "    </tr>\n",
              "    <tr>\n",
              "      <th>583</th>\n",
              "      <td>Illinois</td>\n",
              "      <td>Cook</td>\n",
              "      <td>5171960</td>\n",
              "      <td>13.8</td>\n",
              "      <td>79673</td>\n",
              "      <td>3726</td>\n",
              "      <td>1540.479818</td>\n",
              "      <td>72.042321</td>\n",
              "      <td>4.1</td>\n",
              "    </tr>\n",
              "    <tr>\n",
              "      <th>190</th>\n",
              "      <td>California</td>\n",
              "      <td>Los Angeles</td>\n",
              "      <td>10073906</td>\n",
              "      <td>14.2</td>\n",
              "      <td>57219</td>\n",
              "      <td>2448</td>\n",
              "      <td>567.992197</td>\n",
              "      <td>24.300405</td>\n",
              "      <td>4.6</td>\n",
              "    </tr>\n",
              "    <tr>\n",
              "      <th>1749</th>\n",
              "      <td>New York</td>\n",
              "      <td>Nassau</td>\n",
              "      <td>1357534</td>\n",
              "      <td>5.8</td>\n",
              "      <td>40572</td>\n",
              "      <td>2127</td>\n",
              "      <td>2988.654428</td>\n",
              "      <td>156.681159</td>\n",
              "      <td>3.5</td>\n",
              "    </tr>\n",
              "    <tr>\n",
              "      <th>1769</th>\n",
              "      <td>New York</td>\n",
              "      <td>Suffolk</td>\n",
              "      <td>1480830</td>\n",
              "      <td>7.3</td>\n",
              "      <td>39980</td>\n",
              "      <td>1909</td>\n",
              "      <td>2699.837253</td>\n",
              "      <td>128.914190</td>\n",
              "      <td>3.8</td>\n",
              "    </tr>\n",
              "  </tbody>\n",
              "</table>\n",
              "</div>"
            ],
            "text/plain": [
              "           State  ... Unemployment Rate 2018 (%)\n",
              "1750    New York  ...                        3.7\n",
              "583     Illinois  ...                        4.1\n",
              "190   California  ...                        4.6\n",
              "1749    New York  ...                        3.5\n",
              "1769    New York  ...                        3.8\n",
              "\n",
              "[5 rows x 9 columns]"
            ]
          },
          "metadata": {
            "tags": []
          },
          "execution_count": 17
        }
      ]
    },
    {
      "cell_type": "code",
      "metadata": {
        "id": "K_xIkmDDpqDW",
        "colab_type": "code",
        "colab": {}
      },
      "source": [
        "ax = df2.plot(kind='bar', x='County', y='Confirmed Cases', color='C3')\n",
        "df2.plot(kind='bar', x='County', y='Confirmed Deaths', color='C7', ax=ax)\n",
        "ax.set_title(\"Total Cases and Deaths per 100.000 people\")"
      ],
      "execution_count": null,
      "outputs": []
    },
    {
      "cell_type": "code",
      "metadata": {
        "id": "VEcaiLe0jcmd",
        "colab_type": "code",
        "colab": {
          "base_uri": "https://localhost:8080/",
          "height": 703
        },
        "outputId": "f2e0798b-9e94-4f15-ba75-aa379515fd7b"
      },
      "source": [
        "ax = df[df.State != 'Unknown' ].groupby('State')['Confirmed Cases'].sum().sort_values(ascending = False).head(20).plot(kind='bar', color='red', figsize=(10,10))\n",
        "ax.set_title(\" First 20 State With the most Confirmed Cases\")"
      ],
      "execution_count": 19,
      "outputs": [
        {
          "output_type": "execute_result",
          "data": {
            "text/plain": [
              "Text(0.5, 1.0, ' First 20 State With the most Confirmed Cases')"
            ]
          },
          "metadata": {
            "tags": []
          },
          "execution_count": 19
        },
        {
          "output_type": "display_data",
          "data": {
            "image/png": "[encoded data removed]",
            "text/plain": [
              "<Figure size 720x720 with 1 Axes>"
            ]
          },
          "metadata": {
            "tags": [],
            "needs_background": "light"
          }
        }
      ]
    },
    {
      "cell_type": "code",
      "metadata": {
        "id": "77Thoy4Zx_QU",
        "colab_type": "code",
        "colab": {
          "base_uri": "https://localhost:8080/",
          "height": 774
        },
        "outputId": "21519243-0bae-4f73-be0b-49b443c95a30"
      },
      "source": [
        "df3= df[df['State'] == 'New York'].head(15)\n",
        "df3"
      ],
      "execution_count": 20,
      "outputs": [
        {
          "output_type": "execute_result",
          "data": {
            "text/html": [
              "<div>\n",
              "<style scoped>\n",
              "    .dataframe tbody tr th:only-of-type {\n",
              "        vertical-align: middle;\n",
              "    }\n",
              "\n",
              "    .dataframe tbody tr th {\n",
              "        vertical-align: top;\n",
              "    }\n",
              "\n",
              "    .dataframe thead th {\n",
              "        text-align: right;\n",
              "    }\n",
              "</style>\n",
              "<table border=\"1\" class=\"dataframe\">\n",
              "  <thead>\n",
              "    <tr style=\"text-align: right;\">\n",
              "      <th></th>\n",
              "      <th>State</th>\n",
              "      <th>County</th>\n",
              "      <th>Population 2018</th>\n",
              "      <th>Poverty 2018 (%)</th>\n",
              "      <th>Confirmed Cases</th>\n",
              "      <th>Confirmed Deaths</th>\n",
              "      <th>Confirmed Cases Per 100,000 people</th>\n",
              "      <th>Deaths Per 100,000 people</th>\n",
              "      <th>Unemployment Rate 2018 (%)</th>\n",
              "    </tr>\n",
              "  </thead>\n",
              "  <tbody>\n",
              "    <tr>\n",
              "      <th>1722</th>\n",
              "      <td>New York</td>\n",
              "      <td>Albany</td>\n",
              "      <td>306585</td>\n",
              "      <td>11.3</td>\n",
              "      <td>1900</td>\n",
              "      <td>112</td>\n",
              "      <td>619.730254</td>\n",
              "      <td>36.531468</td>\n",
              "      <td>3.7</td>\n",
              "    </tr>\n",
              "    <tr>\n",
              "      <th>1723</th>\n",
              "      <td>New York</td>\n",
              "      <td>Allegany</td>\n",
              "      <td>46332</td>\n",
              "      <td>17.0</td>\n",
              "      <td>48</td>\n",
              "      <td>0</td>\n",
              "      <td>103.600104</td>\n",
              "      <td>0.000000</td>\n",
              "      <td>5.6</td>\n",
              "    </tr>\n",
              "    <tr>\n",
              "      <th>1724</th>\n",
              "      <td>New York</td>\n",
              "      <td>Broome</td>\n",
              "      <td>191925</td>\n",
              "      <td>17.3</td>\n",
              "      <td>578</td>\n",
              "      <td>44</td>\n",
              "      <td>301.159307</td>\n",
              "      <td>22.925622</td>\n",
              "      <td>4.9</td>\n",
              "    </tr>\n",
              "    <tr>\n",
              "      <th>1725</th>\n",
              "      <td>New York</td>\n",
              "      <td>Cattaraugus</td>\n",
              "      <td>76726</td>\n",
              "      <td>17.1</td>\n",
              "      <td>89</td>\n",
              "      <td>0</td>\n",
              "      <td>115.997185</td>\n",
              "      <td>0.000000</td>\n",
              "      <td>5.3</td>\n",
              "    </tr>\n",
              "    <tr>\n",
              "      <th>1726</th>\n",
              "      <td>New York</td>\n",
              "      <td>Cayuga</td>\n",
              "      <td>77121</td>\n",
              "      <td>13.0</td>\n",
              "      <td>93</td>\n",
              "      <td>1</td>\n",
              "      <td>120.589723</td>\n",
              "      <td>1.296664</td>\n",
              "      <td>4.5</td>\n",
              "    </tr>\n",
              "    <tr>\n",
              "      <th>1727</th>\n",
              "      <td>New York</td>\n",
              "      <td>Chautauqua</td>\n",
              "      <td>127472</td>\n",
              "      <td>18.3</td>\n",
              "      <td>86</td>\n",
              "      <td>4</td>\n",
              "      <td>67.465796</td>\n",
              "      <td>3.137944</td>\n",
              "      <td>5.0</td>\n",
              "    </tr>\n",
              "    <tr>\n",
              "      <th>1728</th>\n",
              "      <td>New York</td>\n",
              "      <td>Chemung</td>\n",
              "      <td>83935</td>\n",
              "      <td>13.5</td>\n",
              "      <td>137</td>\n",
              "      <td>1</td>\n",
              "      <td>163.221540</td>\n",
              "      <td>1.191398</td>\n",
              "      <td>4.6</td>\n",
              "    </tr>\n",
              "    <tr>\n",
              "      <th>1729</th>\n",
              "      <td>New York</td>\n",
              "      <td>Chenango</td>\n",
              "      <td>47445</td>\n",
              "      <td>15.1</td>\n",
              "      <td>133</td>\n",
              "      <td>0</td>\n",
              "      <td>280.324586</td>\n",
              "      <td>0.000000</td>\n",
              "      <td>4.7</td>\n",
              "    </tr>\n",
              "    <tr>\n",
              "      <th>1730</th>\n",
              "      <td>New York</td>\n",
              "      <td>Clinton</td>\n",
              "      <td>80679</td>\n",
              "      <td>13.2</td>\n",
              "      <td>97</td>\n",
              "      <td>4</td>\n",
              "      <td>120.229552</td>\n",
              "      <td>4.957920</td>\n",
              "      <td>4.4</td>\n",
              "    </tr>\n",
              "    <tr>\n",
              "      <th>1731</th>\n",
              "      <td>New York</td>\n",
              "      <td>Columbia</td>\n",
              "      <td>59785</td>\n",
              "      <td>11.7</td>\n",
              "      <td>391</td>\n",
              "      <td>34</td>\n",
              "      <td>654.010203</td>\n",
              "      <td>56.870452</td>\n",
              "      <td>3.3</td>\n",
              "    </tr>\n",
              "    <tr>\n",
              "      <th>1732</th>\n",
              "      <td>New York</td>\n",
              "      <td>Cortland</td>\n",
              "      <td>47722</td>\n",
              "      <td>16.9</td>\n",
              "      <td>41</td>\n",
              "      <td>0</td>\n",
              "      <td>85.914253</td>\n",
              "      <td>0.000000</td>\n",
              "      <td>5.1</td>\n",
              "    </tr>\n",
              "    <tr>\n",
              "      <th>1733</th>\n",
              "      <td>New York</td>\n",
              "      <td>Delaware</td>\n",
              "      <td>44526</td>\n",
              "      <td>15.9</td>\n",
              "      <td>82</td>\n",
              "      <td>4</td>\n",
              "      <td>184.162063</td>\n",
              "      <td>8.983515</td>\n",
              "      <td>4.8</td>\n",
              "    </tr>\n",
              "    <tr>\n",
              "      <th>1734</th>\n",
              "      <td>New York</td>\n",
              "      <td>Dutchess</td>\n",
              "      <td>293939</td>\n",
              "      <td>9.2</td>\n",
              "      <td>3936</td>\n",
              "      <td>142</td>\n",
              "      <td>1339.053341</td>\n",
              "      <td>48.309343</td>\n",
              "      <td>3.7</td>\n",
              "    </tr>\n",
              "    <tr>\n",
              "      <th>1735</th>\n",
              "      <td>New York</td>\n",
              "      <td>Erie</td>\n",
              "      <td>919717</td>\n",
              "      <td>13.7</td>\n",
              "      <td>6173</td>\n",
              "      <td>524</td>\n",
              "      <td>671.184723</td>\n",
              "      <td>56.974047</td>\n",
              "      <td>4.4</td>\n",
              "    </tr>\n",
              "    <tr>\n",
              "      <th>1736</th>\n",
              "      <td>New York</td>\n",
              "      <td>Essex</td>\n",
              "      <td>37288</td>\n",
              "      <td>11.7</td>\n",
              "      <td>38</td>\n",
              "      <td>0</td>\n",
              "      <td>101.909461</td>\n",
              "      <td>0.000000</td>\n",
              "      <td>4.8</td>\n",
              "    </tr>\n",
              "  </tbody>\n",
              "</table>\n",
              "</div>"
            ],
            "text/plain": [
              "         State  ... Unemployment Rate 2018 (%)\n",
              "1722  New York  ...                        3.7\n",
              "1723  New York  ...                        5.6\n",
              "1724  New York  ...                        4.9\n",
              "1725  New York  ...                        5.3\n",
              "1726  New York  ...                        4.5\n",
              "1727  New York  ...                        5.0\n",
              "1728  New York  ...                        4.6\n",
              "1729  New York  ...                        4.7\n",
              "1730  New York  ...                        4.4\n",
              "1731  New York  ...                        3.3\n",
              "1732  New York  ...                        5.1\n",
              "1733  New York  ...                        4.8\n",
              "1734  New York  ...                        3.7\n",
              "1735  New York  ...                        4.4\n",
              "1736  New York  ...                        4.8\n",
              "\n",
              "[15 rows x 9 columns]"
            ]
          },
          "metadata": {
            "tags": []
          },
          "execution_count": 20
        }
      ]
    },
    {
      "cell_type": "code",
      "metadata": {
        "id": "CJO4KFPz0vU7",
        "colab_type": "code",
        "colab": {
          "base_uri": "https://localhost:8080/",
          "height": 34
        },
        "outputId": "2cfc75db-daf1-4544-8e39-0001538b68d1"
      },
      "source": [
        "df3[\"Population 2018\"].sum()"
      ],
      "execution_count": 21,
      "outputs": [
        {
          "output_type": "execute_result",
          "data": {
            "text/plain": [
              "2441197"
            ]
          },
          "metadata": {
            "tags": []
          },
          "execution_count": 21
        }
      ]
    },
    {
      "cell_type": "code",
      "metadata": {
        "id": "j3cAkeF0meJ0",
        "colab_type": "code",
        "colab": {
          "base_uri": "https://localhost:8080/",
          "height": 542
        },
        "outputId": "a8a95ead-d31a-4e41-ca8d-ece4aaefc563"
      },
      "source": [
        "ax = df3.sort_values(by= 'Confirmed Cases').tail(10).plot(x='County', y='Confirmed Cases', kind='barh', color= 'navy', figsize=(20, 10))\n",
        "ax.set_title(\"Confirmed Cases in New York\")\n",
        "ax.grid(axis='x')\n",
        "ax.set_xlabel(\"Total amount of Confirmed Cases\")\n",
        "ax.xaxis.set_label(\"This...\")\n",
        "ax.set_ylabel(\"\")\n",
        "ax.legend('')\n",
        "ax.spines['right'].set_visible(False)\n",
        "ax.spines['top'].set_visible(False)\n",
        "ax.xaxis.set_major_formatter(ticker.StrMethodFormatter(\"{x:,.0f}\"))\n",
        "ax.xaxis.set_ticks_position('none')\n",
        "ax.yaxis.set_ticks_position('none')"
      ],
      "execution_count": 22,
      "outputs": [
        {
          "output_type": "display_data",
          "data": {
            "image/png": "[encoded data removed]",
            "text/plain": [
              "<Figure size 1440x720 with 1 Axes>"
            ]
          },
          "metadata": {
            "tags": [],
            "needs_background": "light"
          }
        }
      ]
    }
  ]
}